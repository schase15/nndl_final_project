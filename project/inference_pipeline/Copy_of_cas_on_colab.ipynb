{
  "cells": [
    {
      "cell_type": "markdown",
      "metadata": {
        "id": "lbUpcvs1p1CF"
      },
      "source": [
        "# Hosting CLIP-as-service on Google Colab with TPU/GPU support\n",
        "\n",
        "This tutorial guides you on how to implement the following architecture:\n",
        "\n",
        "[![](https://mermaid.ink/img/pako:eNp1kEFrwzAMhf-K0bkh99xGVwpjh9Ctp7oMxVYTM8cOttwy2v732fMGgzFd9Hjvk0C6gvKaoIMx4DKJ5510IldMQzW23o-WxNpbHMRBlXasSCmF8S1SOFNommbb79vXfl9TcrqKh0OBlDXk-Cgydht3_bqdmJf2QkP06p349mtTHXvCM0YVzMJfMwX_C6kU7L8xrGCmMKPR-bprcSTwRDNJ6LLUdMJkWYJ094ymRSPTRhv2AboT2kgrwMT-5cMp6Dgk-oEeDebfzN_U_RP7v2yd)](https://mermaid.live/edit#pako:eNp1kEFrwzAMhf-K0bkh99xGVwpjh9Ctp7oMxVYTM8cOttwy2v732fMGgzFd9Hjvk0C6gvKaoIMx4DKJ5510IldMQzW23o-WxNpbHMRBlXasSCmF8S1SOFNommbb79vXfl9TcrqKh0OBlDXk-Cgydht3_bqdmJf2QkP06p349mtTHXvCM0YVzMJfMwX_C6kU7L8xrGCmMKPR-bprcSTwRDNJ6LLUdMJkWYJ094ymRSPTRhv2AboT2kgrwMT-5cMp6Dgk-oEeDebfzN_U_RP7v2yd)\n",
        "\n",
        "CLIP-as-service is powered by Jina, [there is another tutorial showing you how to host Jina service on Colab in general](https://colab.research.google.com/github/jina-ai/jina/blob/master/docs/Using_Jina_on_Colab.ipynb). Highly recommended!\n",
        "\n",
        "\n",
        "## 1. Change runtime type\n",
        "\n",
        "Go to menu `Runtime -> Change run time type -> GPU/TPU`\n",
        "\n",
        "\n",
        "## 2. Install Packages\n",
        "\n",
        "As we will run the client locally, we only need to install `clip_server` package on Colab.\n",
        "\n",
        "\n",
        "**⚠️ You will be asked to \"Restart Runtime\" after this step, please click the button and restart the runtime.**"
      ]
    },
    {
      "cell_type": "code",
      "execution_count": null,
      "metadata": {
        "id": "MRrB2If6kDfX"
      },
      "outputs": [],
      "source": [
        "#!pip install clip_server pyngrok"
      ]
    },
    {
      "cell_type": "markdown",
      "metadata": {
        "id": "q3bmGKIvx5S-"
      },
      "source": [
        "## 3. Config Flow YAML\n",
        "\n",
        "\n",
        "Unlike classic entrypoint from CLI, here we need to start the Flow in Python. Let's load use Pytorch backend and write a Flow YAML. Note that we need to load the torch Python file from `clip_server` installation, hence you see `cas_path` below. More available options [can be found here](https://github.com/jina-ai/clip-as-service/tree/main/server/clip_server/executors)."
      ]
    },
    {
      "cell_type": "code",
      "execution_count": 1,
      "metadata": {
        "id": "nypR4g9EmgOj"
      },
      "outputs": [],
      "source": [
        "import clip_server\n",
        "cas_path = clip_server.__path__[0]"
      ]
    },
    {
      "cell_type": "markdown",
      "metadata": {
        "id": "5RVA1OD8ywOo"
      },
      "source": [
        "This YAML is directly [taken from this file](https://github.com/jina-ai/clip-as-service/blob/main/server/clip_server/torch-flow.yml). You can also customize it as you wish, [please check CLIP-as-service docs](https://clip-as-service.jina.ai/user-guides/server/#yaml-config)."
      ]
    },
    {
      "cell_type": "code",
      "execution_count": 2,
      "metadata": {
        "id": "x5WwnEc_h0dD"
      },
      "outputs": [],
      "source": [
        "flow_yaml = f'''\n",
        "jtype: Flow\n",
        "with:\n",
        "  port: 51000\n",
        "executors:\n",
        "  - name: clip_t\n",
        "    uses:\n",
        "      jtype: CLIPEncoder\n",
        "      metas:\n",
        "        py_modules:\n",
        "          - {cas_path}/executors/clip_torch.py\n",
        "    replicas: 4\n",
        "'''"
      ]
    },
    {
      "cell_type": "code",
      "execution_count": 3,
      "metadata": {
        "colab": {
          "base_uri": "https://localhost:8080/",
          "height": 53
        },
        "id": "Fb1PKf992rLj",
        "outputId": "5c89f501-b7ac-4488-c8ec-e45d7b53e8c1"
      },
      "outputs": [
        {
          "output_type": "execute_result",
          "data": {
            "text/plain": [
              "'\\njtype: Flow\\nwith:\\n  port: 51000\\nexecutors:\\n  - name: clip_t\\n    uses:\\n      jtype: CLIPEncoder\\n      metas:\\n        py_modules:\\n          - /usr/local/lib/python3.11/dist-packages/clip_server/executors/clip_torch.py\\n    replicas: 4\\n'"
            ],
            "application/vnd.google.colaboratory.intrinsic+json": {
              "type": "string"
            }
          },
          "metadata": {},
          "execution_count": 3
        }
      ],
      "source": [
        "flow_yaml"
      ]
    },
    {
      "cell_type": "markdown",
      "metadata": {
        "id": "GvAeaUf4y88e"
      },
      "source": [
        "## 4. Start the Flow\n",
        "\n",
        "It may take a minute or so on the first start, as it will download the pretrained models. To select different pretrained models, [please check CLIP-as-service docs](https://clip-as-service.jina.ai/user-guides/server/#yaml-config)."
      ]
    },
    {
      "cell_type": "code",
      "execution_count": 4,
      "metadata": {
        "colab": {
          "base_uri": "https://localhost:8080/",
          "height": 524,
          "referenced_widgets": [
            "b6a41c2cd171426c9a6149790e86ef6c",
            "2b16115ff64a47bf9b60e27d3111fb03",
            "b8f358bf4e784277a2bd1a5d1e60e591",
            "0ba92b9a765d4537945d310f99e2346b"
          ]
        },
        "id": "4UubypFpl8-K",
        "outputId": "f306e4e2-b800-4c98-b004-0f9ee9974bff"
      },
      "outputs": [
        {
          "output_type": "stream",
          "name": "stderr",
          "text": [
            "\u001b[1;33mRuntimeWarning: coroutine 'Flow._wait_until_all_ready.<locals>._f' was never awaited\u001b[0m \u001b[1;30m(raised from /usr/local/lib/python3.11/dist-packages/jina/orchestrate/flow/base.py:1999)\u001b[0m\n"
          ]
        },
        {
          "output_type": "display_data",
          "data": {
            "text/plain": [
              "Output()"
            ],
            "application/vnd.jupyter.widget-view+json": {
              "version_major": 2,
              "version_minor": 0,
              "model_id": "b6a41c2cd171426c9a6149790e86ef6c"
            }
          },
          "metadata": {}
        },
        {
          "output_type": "stream",
          "name": "stderr",
          "text": [
            "\u001b[1;33mUserWarning: `docs` annotation must be a type hint, got DocumentArray instead, you should maybe remove the string annotation. Default valueDocumentArray will be used instead.\u001b[0m \u001b[1;30m(raised from /usr/local/lib/python3.11/dist-packages/jina/serve/executors/__init__.py:270)\u001b[0m\n",
            "\u001b[1;33mUserWarning: `docs` annotation must be a type hint, got DocumentArray instead, you should maybe remove the string annotation. Default valueDocumentArray will be used instead.\u001b[0m \u001b[1;30m(raised from /usr/local/lib/python3.11/dist-packages/jina/serve/executors/__init__.py:270)\u001b[0m\n",
            "\u001b[1;33mUserWarning: `docs` annotation must be a type hint, got DocumentArray instead, you should maybe remove the string annotation. Default valueDocumentArray will be used instead.\u001b[0m \u001b[1;30m(raised from /usr/local/lib/python3.11/dist-packages/jina/serve/executors/__init__.py:270)\u001b[0m\n",
            "\u001b[1;33mUserWarning: `docs` annotation must be a type hint, got DocumentArray instead, you should maybe remove the string annotation. Default valueDocumentArray will be used instead.\u001b[0m \u001b[1;30m(raised from /usr/local/lib/python3.11/dist-packages/jina/serve/executors/__init__.py:270)\u001b[0m\n",
            "\u001b[1;33mFutureWarning: Importing from timm.models.layers is deprecated, please import via timm.layers\u001b[0m \u001b[1;30m(raised from /usr/local/lib/python3.11/dist-packages/timm/models/layers/__init__.py:48)\u001b[0m\n"
          ]
        },
        {
          "output_type": "display_data",
          "data": {
            "text/plain": [
              "Output()"
            ],
            "application/vnd.jupyter.widget-view+json": {
              "version_major": 2,
              "version_minor": 0,
              "model_id": "b8f358bf4e784277a2bd1a5d1e60e591"
            }
          },
          "metadata": {}
        },
        {
          "output_type": "display_data",
          "data": {
            "text/plain": [],
            "text/html": [
              "<pre style=\"white-space:pre;overflow-x:auto;line-height:normal;font-family:Menlo,'DejaVu Sans Mono',consolas,'Courier New',monospace\"></pre>\n"
            ]
          },
          "metadata": {}
        },
        {
          "output_type": "display_data",
          "data": {
            "text/plain": [
              "\u001b[34mINFO  \u001b[0m clip_t/rep-\u001b[1;36m2\u001b[0m@\u001b[1;36m1963\u001b[0m start server bound to \u001b[1;92m0.0.0.0\u001b[0m:\u001b[1;36m50023\u001b[0m                                    \u001b[2m[05/12/25 21:21:08]\u001b[0m\n"
            ],
            "text/html": [
              "<pre style=\"white-space:pre;overflow-x:auto;line-height:normal;font-family:Menlo,'DejaVu Sans Mono',consolas,'Courier New',monospace\"><span style=\"color: #000080; text-decoration-color: #000080\">INFO  </span> clip_t/rep-<span style=\"color: #008080; text-decoration-color: #008080; font-weight: bold\">2</span>@<span style=\"color: #008080; text-decoration-color: #008080; font-weight: bold\">1963</span> start server bound to <span style=\"color: #00ff00; text-decoration-color: #00ff00; font-weight: bold\">0.0.0.0</span>:<span style=\"color: #008080; text-decoration-color: #008080; font-weight: bold\">50023</span>                                    <span style=\"color: #7f7f7f; text-decoration-color: #7f7f7f\">[05/12/25 21:21:08]</span>\n",
              "</pre>\n"
            ]
          },
          "metadata": {}
        },
        {
          "output_type": "stream",
          "name": "stderr",
          "text": [
            "\u001b[1;33mFutureWarning: Importing from timm.models.layers is deprecated, please import via timm.layers\u001b[0m \u001b[1;30m(raised from /usr/local/lib/python3.11/dist-packages/timm/models/layers/__init__.py:48)\u001b[0m\n"
          ]
        },
        {
          "output_type": "display_data",
          "data": {
            "text/plain": [
              "\u001b[34mINFO  \u001b[0m clip_t/rep-\u001b[1;36m0\u001b[0m@\u001b[1;36m1961\u001b[0m start server bound to \u001b[1;92m0.0.0.0\u001b[0m:\u001b[1;36m53278\u001b[0m                                    \u001b[2m[05/12/25 21:21:22]\u001b[0m\n"
            ],
            "text/html": [
              "<pre style=\"white-space:pre;overflow-x:auto;line-height:normal;font-family:Menlo,'DejaVu Sans Mono',consolas,'Courier New',monospace\"><span style=\"color: #000080; text-decoration-color: #000080\">INFO  </span> clip_t/rep-<span style=\"color: #008080; text-decoration-color: #008080; font-weight: bold\">0</span>@<span style=\"color: #008080; text-decoration-color: #008080; font-weight: bold\">1961</span> start server bound to <span style=\"color: #00ff00; text-decoration-color: #00ff00; font-weight: bold\">0.0.0.0</span>:<span style=\"color: #008080; text-decoration-color: #008080; font-weight: bold\">53278</span>                                    <span style=\"color: #7f7f7f; text-decoration-color: #7f7f7f\">[05/12/25 21:21:22]</span>\n",
              "</pre>\n"
            ]
          },
          "metadata": {}
        },
        {
          "output_type": "stream",
          "name": "stderr",
          "text": [
            "\u001b[1;33mFutureWarning: Importing from timm.models.layers is deprecated, please import via timm.layers\u001b[0m \u001b[1;30m(raised from /usr/local/lib/python3.11/dist-packages/timm/models/layers/__init__.py:48)\u001b[0m\n"
          ]
        },
        {
          "output_type": "display_data",
          "data": {
            "text/plain": [
              "\u001b[34mINFO  \u001b[0m clip_t/rep-\u001b[1;36m3\u001b[0m@\u001b[1;36m1964\u001b[0m start server bound to \u001b[1;92m0.0.0.0\u001b[0m:\u001b[1;36m60993\u001b[0m                                    \u001b[2m[05/12/25 21:21:33]\u001b[0m\n"
            ],
            "text/html": [
              "<pre style=\"white-space:pre;overflow-x:auto;line-height:normal;font-family:Menlo,'DejaVu Sans Mono',consolas,'Courier New',monospace\"><span style=\"color: #000080; text-decoration-color: #000080\">INFO  </span> clip_t/rep-<span style=\"color: #008080; text-decoration-color: #008080; font-weight: bold\">3</span>@<span style=\"color: #008080; text-decoration-color: #008080; font-weight: bold\">1964</span> start server bound to <span style=\"color: #00ff00; text-decoration-color: #00ff00; font-weight: bold\">0.0.0.0</span>:<span style=\"color: #008080; text-decoration-color: #008080; font-weight: bold\">60993</span>                                    <span style=\"color: #7f7f7f; text-decoration-color: #7f7f7f\">[05/12/25 21:21:33]</span>\n",
              "</pre>\n"
            ]
          },
          "metadata": {}
        },
        {
          "output_type": "stream",
          "name": "stderr",
          "text": [
            "\u001b[1;33mFutureWarning: Importing from timm.models.layers is deprecated, please import via timm.layers\u001b[0m \u001b[1;30m(raised from /usr/local/lib/python3.11/dist-packages/timm/models/layers/__init__.py:48)\u001b[0m\n"
          ]
        },
        {
          "output_type": "display_data",
          "data": {
            "text/plain": [
              "\u001b[34mINFO  \u001b[0m clip_t/rep-\u001b[1;36m1\u001b[0m@\u001b[1;36m1962\u001b[0m start server bound to \u001b[1;92m0.0.0.0\u001b[0m:\u001b[1;36m61610\u001b[0m                                    \u001b[2m[05/12/25 21:21:46]\u001b[0m\n"
            ],
            "text/html": [
              "<pre style=\"white-space:pre;overflow-x:auto;line-height:normal;font-family:Menlo,'DejaVu Sans Mono',consolas,'Courier New',monospace\"><span style=\"color: #000080; text-decoration-color: #000080\">INFO  </span> clip_t/rep-<span style=\"color: #008080; text-decoration-color: #008080; font-weight: bold\">1</span>@<span style=\"color: #008080; text-decoration-color: #008080; font-weight: bold\">1962</span> start server bound to <span style=\"color: #00ff00; text-decoration-color: #00ff00; font-weight: bold\">0.0.0.0</span>:<span style=\"color: #008080; text-decoration-color: #008080; font-weight: bold\">61610</span>                                    <span style=\"color: #7f7f7f; text-decoration-color: #7f7f7f\">[05/12/25 21:21:46]</span>\n",
              "</pre>\n"
            ]
          },
          "metadata": {}
        },
        {
          "output_type": "display_data",
          "data": {
            "text/plain": [],
            "text/html": [
              "<pre style=\"white-space:pre;overflow-x:auto;line-height:normal;font-family:Menlo,'DejaVu Sans Mono',consolas,'Courier New',monospace\"></pre>\n"
            ]
          },
          "metadata": {}
        },
        {
          "output_type": "display_data",
          "data": {
            "text/plain": [
              "\u001b[92m─────────────────────────────────────────── \u001b[0m🎉 Flow is ready to serve!\u001b[92m ────────────────────────────────────────────\u001b[0m\n",
              "╭────────────── 🔗 \u001b[1mEndpoint\u001b[0m ───────────────╮\n",
              "│  ⛓      Protocol                   GRPC  │\n",
              "│  🏠        Local          \u001b]8;id=36579;grpc://0.0.0.0:51000\u001b\\\u001b[1;92m0.0.0.0\u001b[0m\u001b]8;;\u001b\\\u001b]8;id=557327;grpc://0.0.0.0:51000\u001b\\:\u001b]8;;\u001b\\\u001b]8;id=945688;grpc://0.0.0.0:51000\u001b\\\u001b[1;36m51000\u001b[0m\u001b]8;;\u001b\\  │\n",
              "│  🔒      Private      \u001b]8;id=711620;grpc://172.28.0.12:51000\u001b\\\u001b[1;92m172.28.0.12\u001b[0m\u001b]8;;\u001b\\\u001b]8;id=127485;grpc://172.28.0.12:51000\u001b\\:\u001b]8;;\u001b\\\u001b]8;id=227216;grpc://172.28.0.12:51000\u001b\\\u001b[1;36m51000\u001b[0m\u001b]8;;\u001b\\  │\n",
              "│  🌍       Public    \u001b]8;id=392989;grpc://34.32.191.171:51000\u001b\\\u001b[1;92m34.32.191.171\u001b[0m\u001b]8;;\u001b\\\u001b]8;id=983621;grpc://34.32.191.171:51000\u001b\\:\u001b]8;;\u001b\\\u001b]8;id=811948;grpc://34.32.191.171:51000\u001b\\\u001b[1;36m51000\u001b[0m\u001b]8;;\u001b\\  │\n",
              "╰──────────────────────────────────────────╯\n"
            ],
            "text/html": [
              "<pre style=\"white-space:pre;overflow-x:auto;line-height:normal;font-family:Menlo,'DejaVu Sans Mono',consolas,'Courier New',monospace\"><span style=\"color: #00ff00; text-decoration-color: #00ff00\">─────────────────────────────────────────── </span>🎉 Flow is ready to serve!<span style=\"color: #00ff00; text-decoration-color: #00ff00\"> ────────────────────────────────────────────</span>\n",
              "╭────────────── 🔗 <span style=\"font-weight: bold\">Endpoint</span> ───────────────╮\n",
              "│  ⛓      Protocol                   GRPC  │\n",
              "│  🏠        Local          <a href=\"grpc://0.0.0.0:51000\" target=\"_blank\"><span style=\"color: #00ff00; text-decoration-color: #00ff00; font-weight: bold\">0.0.0.0</span></a><a href=\"grpc://0.0.0.0:51000\" target=\"_blank\">:</a><a href=\"grpc://0.0.0.0:51000\" target=\"_blank\"><span style=\"color: #008080; text-decoration-color: #008080; font-weight: bold\">51000</span></a>  │\n",
              "│  🔒      Private      <a href=\"grpc://172.28.0.12:51000\" target=\"_blank\"><span style=\"color: #00ff00; text-decoration-color: #00ff00; font-weight: bold\">172.28.0.12</span></a><a href=\"grpc://172.28.0.12:51000\" target=\"_blank\">:</a><a href=\"grpc://172.28.0.12:51000\" target=\"_blank\"><span style=\"color: #008080; text-decoration-color: #008080; font-weight: bold\">51000</span></a>  │\n",
              "│  🌍       Public    <a href=\"grpc://34.32.191.171:51000\" target=\"_blank\"><span style=\"color: #00ff00; text-decoration-color: #00ff00; font-weight: bold\">34.32.191.171</span></a><a href=\"grpc://34.32.191.171:51000\" target=\"_blank\">:</a><a href=\"grpc://34.32.191.171:51000\" target=\"_blank\"><span style=\"color: #008080; text-decoration-color: #008080; font-weight: bold\">51000</span></a>  │\n",
              "╰──────────────────────────────────────────╯\n",
              "</pre>\n"
            ]
          },
          "metadata": {}
        },
        {
          "output_type": "display_data",
          "data": {
            "text/plain": [
              "Do you love open source? Help us improve \u001b]8;id=854340;https://github.com/jina-ai/jina\u001b\\Jina\u001b]8;;\u001b\\ in just \u001b[1;36m1\u001b[0m minute and \u001b[1;36m30\u001b[0m seconds by taking our survey: \n",
              "\u001b[4;94mhttps://10sw1tcpld4.typeform.com/jinasurveyfeb23?\u001b[0m\u001b[4;94mutm_source\u001b[0m\u001b[4;94m=\u001b[0m\u001b[4;94mjina\u001b[0m \u001b[1m(\u001b[0mSet environment variable \u001b[33mJINA_HIDE_SURVEY\u001b[0m=\u001b[1;36m1\u001b[0m to \n",
              "hide this message.\u001b[1m)\u001b[0m\n"
            ],
            "text/html": [
              "<pre style=\"white-space:pre;overflow-x:auto;line-height:normal;font-family:Menlo,'DejaVu Sans Mono',consolas,'Courier New',monospace\">Do you love open source? Help us improve <a href=\"https://github.com/jina-ai/jina\" target=\"_blank\">Jina</a> in just <span style=\"color: #008080; text-decoration-color: #008080; font-weight: bold\">1</span> minute and <span style=\"color: #008080; text-decoration-color: #008080; font-weight: bold\">30</span> seconds by taking our survey: \n",
              "<span style=\"color: #0000ff; text-decoration-color: #0000ff; text-decoration: underline\">https://10sw1tcpld4.typeform.com/jinasurveyfeb23?utm_source=jina</span> <span style=\"font-weight: bold\">(</span>Set environment variable <span style=\"color: #808000; text-decoration-color: #808000\">JINA_HIDE_SURVEY</span>=<span style=\"color: #008080; text-decoration-color: #008080; font-weight: bold\">1</span> to \n",
              "hide this message.<span style=\"font-weight: bold\">)</span>\n",
              "</pre>\n"
            ]
          },
          "metadata": {}
        },
        {
          "output_type": "stream",
          "name": "stderr",
          "text": [
            "\u001b[1;33mRuntimeWarning: coroutine 'Flow._wait_until_all_ready.<locals>._async_wait_ready' was never awaited\u001b[0m \u001b[1;30m(raised from /usr/local/lib/python3.11/dist-packages/jina/orchestrate/flow/base.py:1857)\u001b[0m\n"
          ]
        },
        {
          "output_type": "display_data",
          "data": {
            "text/html": [
              "<img src=\"https://mermaid.ink/svg/ICAgICAgICAgICAgJSV7aW5pdDp7ICAidGhlbWUiOiAiYmFzZSIsICAidGhlbWVWYXJpYWJsZXMiOiB7ICAgICAgInByaW1hcnlDb2xvciI6ICIjZmZmIiwgICAgICAicHJpbWFyeUJvcmRlckNvbG9yIjogIiNmZmYiLCAgICAgICJtYWluQmtnIjogIiMzMkM4Q0QiLCAgICAgICJjbHVzdGVyQmtnIjogIiNFRUVERTc4QyIsICAgICAgInNlY29uZGFyeUJvcmRlckNvbG9yIjogIm5vbmUiLCAgICAgICJ0ZXJ0aWFyeUJvcmRlckNvbG9yIjogIm5vbmUiLCAgICAgICJsaW5lQ29sb3IiOiAiI2E2ZDhkYSIgICAgICB9fX0lJQpmbG93Y2hhcnQgTFI7CnN1YmdyYXBoIGNsaXBfdDsKCmRpcmVjdGlvbiBMUjsKCmNsaXBfdC9yZXAtMC9yZXAtMFsiInsianR5cGUiOiAiQ0xJUEVuY29kZXIiLCAibWV0YXMiOiB7InB5X21vZHVsZXMiOiBbIi91c3IvbG9jYWwvbGliL3B5dGhvbjMuMTEvZGlzdC1wYWNrYWdlcy9jbGlwX3NlcnZlci9leGVjdXRvcnMvY2xpcF90b3JjaC5weSJdfX0iIl06Ojpwb2Q7CmNsaXBfdC9yZXAtMC9yZXAtMVsiInsianR5cGUiOiAiQ0xJUEVuY29kZXIiLCAibWV0YXMiOiB7InB5X21vZHVsZXMiOiBbIi91c3IvbG9jYWwvbGliL3B5dGhvbjMuMTEvZGlzdC1wYWNrYWdlcy9jbGlwX3NlcnZlci9leGVjdXRvcnMvY2xpcF90b3JjaC5weSJdfX0iIl06Ojpwb2Q7CmNsaXBfdC9yZXAtMC9yZXAtMlsiInsianR5cGUiOiAiQ0xJUEVuY29kZXIiLCAibWV0YXMiOiB7InB5X21vZHVsZXMiOiBbIi91c3IvbG9jYWwvbGliL3B5dGhvbjMuMTEvZGlzdC1wYWNrYWdlcy9jbGlwX3NlcnZlci9leGVjdXRvcnMvY2xpcF90b3JjaC5weSJdfX0iIl06Ojpwb2Q7CmNsaXBfdC9yZXAtMC9yZXAtM1siInsianR5cGUiOiAiQ0xJUEVuY29kZXIiLCAibWV0YXMiOiB7InB5X21vZHVsZXMiOiBbIi91c3IvbG9jYWwvbGliL3B5dGhvbjMuMTEvZGlzdC1wYWNrYWdlcy9jbGlwX3NlcnZlci9leGVjdXRvcnMvY2xpcF90b3JjaC5weSJdfX0iIl06Ojpwb2Q7CmVuZDsKZ2F0ZXdheXN0YXJ0W2dhdGV3YXldOjo6R0FURVdBWSAtLT4gY2xpcF90Ojo6REVQTE9ZTUVOVDsKY2xpcF90Ojo6REVQTE9ZTUVOVCAtLT4gZ2F0ZXdheWVuZFtnYXRld2F5XTo6OkdBVEVXQVk7CmNsYXNzRGVmIElOU1BFQ1Qgc3Ryb2tlOiNGMjlDOUYKY2xhc3NEZWYgSk9JTl9JTlNQRUNUIHN0cm9rZTojRjI5QzlGCmNsYXNzRGVmIEdBVEVXQVkgZmlsbDpub25lLGNvbG9yOiMwMDAsc3Ryb2tlOm5vbmUKY2xhc3NEZWYgSU5TUEVDVF9BVVhfUEFTUyBzdHJva2UtZGFzaGFycmF5OiAyIDIKY2xhc3NEZWYgSEVBRFRBSUwgZmlsbDojMzJDOENEMUQKCmNsYXNzRGVmIEVYVEVSTkFMIGZpbGw6I2ZmZixzdHJva2U6IzMyQzhDRA==\"/>"
            ],
            "text/plain": [
              "<IPython.core.display.Image object>"
            ]
          },
          "metadata": {}
        }
      ],
      "source": [
        "from jina import Flow\n",
        "\n",
        "f = Flow.load_config(flow_yaml)\n",
        "f.start()"
      ]
    },
    {
      "cell_type": "markdown",
      "metadata": {
        "id": "2BOYxmpd8YSE"
      },
      "source": [
        "Remember to close it via `f.close()` when you don't use it. But let's keep it open for now."
      ]
    },
    {
      "cell_type": "markdown",
      "metadata": {
        "id": "1lTqYEwezDTP"
      },
      "source": [
        "## 5. Set up forwarding\n",
        "\n",
        "By default Flow uses gRPC protocol, it is highly-efficient and feature-rich. So in this tutorial, we will use gRPC protocol and use `ngrok` for forwarding. It is possible and in fact slighly easier to set up when using `Flow(protocol='http')`, [please read the turorial here](https://colab.research.google.com/github/jina-ai/jina/blob/master/docs/Using_Jina_on_Colab.ipynb#scrollTo=0ASjGLBhXono) here I won't repeat again.\n",
        "\n",
        "\n",
        "You will need to first sign up at https://dashboard.ngrok.com/signup (http do not need register, that's why I said it is easier)\n",
        "\n",
        "After signing up, you can get a token. Then simply add your token via (replacing `YOUR_TOKEN_HERE`)"
      ]
    },
    {
      "cell_type": "code",
      "execution_count": 5,
      "metadata": {
        "colab": {
          "base_uri": "https://localhost:8080/"
        },
        "id": "PYQPKek-oG1a",
        "outputId": "3e96142d-d5fc-4dec-9661-91f386eca787"
      },
      "outputs": [
        {
          "output_type": "stream",
          "name": "stdout",
          "text": [
            "Requirement already satisfied: pyngrok in /usr/local/lib/python3.11/dist-packages (7.2.8)\n",
            "Requirement already satisfied: PyYAML>=5.1 in /usr/local/lib/python3.11/dist-packages (from pyngrok) (6.0.2)\n",
            "Authtoken saved to configuration file: /root/.config/ngrok/ngrok.yml\n"
          ]
        }
      ],
      "source": [
        "!pip install pyngrok\n",
        "\n",
        "# remember to replace to your token! otherwise i can see your service, i mean i dont really have time to see it but nonetheless\n",
        "#!ngrok authtoken 2nXxQZ267m5WH8nk7iVMZJcbo6I_6MmNpiUT6ZRFSZ2ZoTDhn\n",
        "\n",
        "!ngrok authtoken 2wbP0Jd47h9I6GVX5kE6eFqTZ0m_33By7YLM76Xgky3MHohej"
      ]
    },
    {
      "cell_type": "code",
      "execution_count": null,
      "metadata": {
        "colab": {
          "base_uri": "https://localhost:8080/"
        },
        "id": "2Hacpj4qn9nx",
        "outputId": "f1c9ec33-8639-4df5-b584-83751ca43b0d"
      },
      "outputs": [
        {
          "output_type": "stream",
          "name": "stdout",
          "text": [
            "\u001b[32mINFO\u001b[0m[05-12|21:21:51] no configuration paths supplied \n",
            "\u001b[32mINFO\u001b[0m[05-12|21:21:51] using configuration at default config path \u001b[32mpath\u001b[0m=/root/.config/ngrok/ngrok.yml\n",
            "\u001b[32mINFO\u001b[0m[05-12|21:21:51] open config file                         \u001b[32mpath\u001b[0m=/root/.config/ngrok/ngrok.yml \u001b[32merr\u001b[0m=nil\n",
            "t=2025-05-12T21:21:51+0000 lvl=info msg=\"starting web service\" obj=web addr=127.0.0.1:4040 allow_hosts=[]\n",
            "t=2025-05-12T21:21:51+0000 lvl=info msg=\"client session established\" obj=tunnels.session\n",
            "t=2025-05-12T21:21:51+0000 lvl=info msg=\"tunnel session started\" obj=tunnels.session\n",
            "t=2025-05-12T21:21:51+0000 lvl=info msg=\"started tunnel\" obj=tunnels name=command_line addr=//localhost:51000 url=tcp://0.tcp.ngrok.io:13104\n",
            "t=2025-05-12T21:23:38+0000 lvl=info msg=\"join connections\" obj=join id=52033320d6d1 l=127.0.0.1:51000 r=68.199.56.76:53362\n",
            "t=2025-05-12T21:24:00+0000 lvl=info msg=\"join connections\" obj=join id=814e51dbaff1 l=127.0.0.1:51000 r=68.199.56.76:53376\n",
            "t=2025-05-12T21:33:41+0000 lvl=info msg=\"join connections\" obj=join id=8e65ea2c6471 l=127.0.0.1:51000 r=68.199.56.76:53498\n",
            "t=2025-05-12T21:33:42+0000 lvl=info msg=\"join connections\" obj=join id=76e2b530eb01 l=127.0.0.1:51000 r=68.199.56.76:53499\n",
            "t=2025-05-12T21:33:43+0000 lvl=info msg=\"join connections\" obj=join id=bc4117c205f9 l=127.0.0.1:51000 r=68.199.56.76:53500\n",
            "t=2025-05-12T21:33:44+0000 lvl=info msg=\"join connections\" obj=join id=c7c697bac40d l=127.0.0.1:51000 r=68.199.56.76:53501\n",
            "t=2025-05-12T21:33:44+0000 lvl=info msg=\"join connections\" obj=join id=c418e1c2f35f l=127.0.0.1:51000 r=68.199.56.76:53502\n",
            "t=2025-05-12T21:33:45+0000 lvl=info msg=\"join connections\" obj=join id=0ecc200119a9 l=127.0.0.1:51000 r=68.199.56.76:53503\n",
            "t=2025-05-12T21:33:45+0000 lvl=info msg=\"join connections\" obj=join id=21eff429cf14 l=127.0.0.1:51000 r=68.199.56.76:53504\n",
            "t=2025-05-12T21:33:46+0000 lvl=info msg=\"join connections\" obj=join id=5cca4f6c8fcf l=127.0.0.1:51000 r=68.199.56.76:53505\n",
            "t=2025-05-12T21:33:47+0000 lvl=info msg=\"join connections\" obj=join id=e6071f83175f l=127.0.0.1:51000 r=68.199.56.76:53506\n",
            "t=2025-05-12T21:33:47+0000 lvl=info msg=\"join connections\" obj=join id=f16a9db87364 l=127.0.0.1:51000 r=68.199.56.76:53507\n",
            "t=2025-05-12T21:33:48+0000 lvl=info msg=\"join connections\" obj=join id=ad3f31eb38fe l=127.0.0.1:51000 r=68.199.56.76:53508\n",
            "t=2025-05-12T21:33:48+0000 lvl=info msg=\"join connections\" obj=join id=6c3b4fedfba8 l=127.0.0.1:51000 r=68.199.56.76:53509\n",
            "t=2025-05-12T21:33:49+0000 lvl=info msg=\"join connections\" obj=join id=06c2d3b81a70 l=127.0.0.1:51000 r=68.199.56.76:53510\n",
            "t=2025-05-12T21:33:49+0000 lvl=info msg=\"join connections\" obj=join id=acc5cadaa527 l=127.0.0.1:51000 r=68.199.56.76:53511\n",
            "t=2025-05-12T21:33:50+0000 lvl=info msg=\"join connections\" obj=join id=e3c20bdf7d03 l=127.0.0.1:51000 r=68.199.56.76:53512\n",
            "t=2025-05-12T21:33:50+0000 lvl=info msg=\"join connections\" obj=join id=f5ce98090eb6 l=127.0.0.1:51000 r=68.199.56.76:53513\n",
            "t=2025-05-12T21:33:51+0000 lvl=info msg=\"join connections\" obj=join id=51608db11b8e l=127.0.0.1:51000 r=68.199.56.76:53514\n",
            "t=2025-05-12T21:33:51+0000 lvl=info msg=\"join connections\" obj=join id=e6ba95e57af3 l=127.0.0.1:51000 r=68.199.56.76:53515\n",
            "t=2025-05-12T21:33:52+0000 lvl=info msg=\"join connections\" obj=join id=99e975a3e0f6 l=127.0.0.1:51000 r=68.199.56.76:53516\n",
            "t=2025-05-12T21:33:52+0000 lvl=info msg=\"join connections\" obj=join id=014db2b07f04 l=127.0.0.1:51000 r=68.199.56.76:53517\n",
            "t=2025-05-12T21:33:53+0000 lvl=info msg=\"join connections\" obj=join id=f16eabf30189 l=127.0.0.1:51000 r=68.199.56.76:53518\n",
            "t=2025-05-12T21:33:53+0000 lvl=info msg=\"join connections\" obj=join id=c678e9bccc74 l=127.0.0.1:51000 r=68.199.56.76:53519\n",
            "t=2025-05-12T21:33:54+0000 lvl=info msg=\"join connections\" obj=join id=1028d9dd3fb7 l=127.0.0.1:51000 r=68.199.56.76:53520\n",
            "t=2025-05-12T21:33:54+0000 lvl=info msg=\"join connections\" obj=join id=09a02c69cac9 l=127.0.0.1:51000 r=68.199.56.76:53521\n",
            "t=2025-05-12T21:33:55+0000 lvl=info msg=\"join connections\" obj=join id=e9f2089f049e l=127.0.0.1:51000 r=68.199.56.76:53522\n",
            "t=2025-05-12T21:33:56+0000 lvl=info msg=\"join connections\" obj=join id=147d21d1456c l=127.0.0.1:51000 r=68.199.56.76:53523\n",
            "t=2025-05-12T21:33:56+0000 lvl=info msg=\"join connections\" obj=join id=34ad93ba10a9 l=127.0.0.1:51000 r=68.199.56.76:53524\n",
            "t=2025-05-12T21:33:57+0000 lvl=info msg=\"join connections\" obj=join id=781f6f1df4bf l=127.0.0.1:51000 r=68.199.56.76:53525\n",
            "t=2025-05-12T21:33:57+0000 lvl=info msg=\"join connections\" obj=join id=6bae30331195 l=127.0.0.1:51000 r=68.199.56.76:53526\n",
            "t=2025-05-12T21:33:58+0000 lvl=info msg=\"join connections\" obj=join id=81edd882e7e9 l=127.0.0.1:51000 r=68.199.56.76:53527\n",
            "t=2025-05-12T21:33:58+0000 lvl=info msg=\"join connections\" obj=join id=d98576803b84 l=127.0.0.1:51000 r=68.199.56.76:53528\n",
            "t=2025-05-12T21:33:59+0000 lvl=info msg=\"join connections\" obj=join id=f5fc4164406f l=127.0.0.1:51000 r=68.199.56.76:53530\n",
            "t=2025-05-12T21:33:59+0000 lvl=info msg=\"join connections\" obj=join id=9a027a2116d9 l=127.0.0.1:51000 r=68.199.56.76:53531\n",
            "t=2025-05-12T21:34:00+0000 lvl=info msg=\"join connections\" obj=join id=148f6c7d5ad0 l=127.0.0.1:51000 r=68.199.56.76:53532\n",
            "t=2025-05-12T21:34:00+0000 lvl=info msg=\"join connections\" obj=join id=c0b521a999f8 l=127.0.0.1:51000 r=68.199.56.76:53533\n",
            "t=2025-05-12T21:34:01+0000 lvl=info msg=\"join connections\" obj=join id=ee41d36ea4b3 l=127.0.0.1:51000 r=68.199.56.76:53534\n",
            "t=2025-05-12T21:34:01+0000 lvl=info msg=\"join connections\" obj=join id=8964ecd734e6 l=127.0.0.1:51000 r=68.199.56.76:53535\n",
            "t=2025-05-12T21:34:02+0000 lvl=info msg=\"join connections\" obj=join id=005fdc885aed l=127.0.0.1:51000 r=68.199.56.76:53536\n",
            "t=2025-05-12T21:34:02+0000 lvl=info msg=\"join connections\" obj=join id=66d69f9aabb4 l=127.0.0.1:51000 r=68.199.56.76:53537\n",
            "t=2025-05-12T21:34:03+0000 lvl=info msg=\"join connections\" obj=join id=b93be80e3412 l=127.0.0.1:51000 r=68.199.56.76:53538\n",
            "t=2025-05-12T21:34:04+0000 lvl=info msg=\"join connections\" obj=join id=5864f675bf53 l=127.0.0.1:51000 r=68.199.56.76:53539\n",
            "t=2025-05-12T21:34:04+0000 lvl=info msg=\"join connections\" obj=join id=5e7ce00695d1 l=127.0.0.1:51000 r=68.199.56.76:53540\n",
            "t=2025-05-12T21:34:05+0000 lvl=info msg=\"join connections\" obj=join id=dfb29dd611a2 l=127.0.0.1:51000 r=68.199.56.76:53541\n",
            "t=2025-05-12T21:34:05+0000 lvl=info msg=\"join connections\" obj=join id=5773ffc1dfc4 l=127.0.0.1:51000 r=68.199.56.76:53542\n",
            "t=2025-05-12T21:34:06+0000 lvl=info msg=\"join connections\" obj=join id=70a2151fa3d3 l=127.0.0.1:51000 r=68.199.56.76:53543\n",
            "t=2025-05-12T21:34:06+0000 lvl=info msg=\"join connections\" obj=join id=0043a7afc9da l=127.0.0.1:51000 r=68.199.56.76:53544\n",
            "t=2025-05-12T21:34:07+0000 lvl=info msg=\"join connections\" obj=join id=bfd50ea6cfcb l=127.0.0.1:51000 r=68.199.56.76:53545\n",
            "t=2025-05-12T21:34:07+0000 lvl=info msg=\"join connections\" obj=join id=5e7a63ddd15a l=127.0.0.1:51000 r=68.199.56.76:53546\n",
            "t=2025-05-12T21:34:08+0000 lvl=info msg=\"join connections\" obj=join id=4edd68928537 l=127.0.0.1:51000 r=68.199.56.76:53548\n",
            "t=2025-05-12T21:34:08+0000 lvl=info msg=\"join connections\" obj=join id=96b52c5c80fc l=127.0.0.1:51000 r=68.199.56.76:53552\n",
            "t=2025-05-12T21:34:09+0000 lvl=info msg=\"join connections\" obj=join id=112b2c24d9e9 l=127.0.0.1:51000 r=68.199.56.76:53555\n",
            "t=2025-05-12T21:34:09+0000 lvl=info msg=\"join connections\" obj=join id=5b9f6a2774fb l=127.0.0.1:51000 r=68.199.56.76:53556\n",
            "t=2025-05-12T21:34:10+0000 lvl=info msg=\"join connections\" obj=join id=64be43f9ac29 l=127.0.0.1:51000 r=68.199.56.76:53557\n",
            "t=2025-05-12T21:34:11+0000 lvl=info msg=\"join connections\" obj=join id=426a3874aa52 l=127.0.0.1:51000 r=68.199.56.76:53558\n",
            "t=2025-05-12T21:34:11+0000 lvl=info msg=\"join connections\" obj=join id=a002db6e9a9a l=127.0.0.1:51000 r=68.199.56.76:53559\n",
            "t=2025-05-12T21:34:12+0000 lvl=info msg=\"join connections\" obj=join id=9fe1c61c3f42 l=127.0.0.1:51000 r=68.199.56.76:53560\n",
            "t=2025-05-12T21:34:12+0000 lvl=info msg=\"join connections\" obj=join id=5207b6d21430 l=127.0.0.1:51000 r=68.199.56.76:53561\n",
            "t=2025-05-12T21:34:13+0000 lvl=info msg=\"join connections\" obj=join id=d4c5a457995b l=127.0.0.1:51000 r=68.199.56.76:53562\n",
            "t=2025-05-12T21:34:13+0000 lvl=info msg=\"join connections\" obj=join id=e5f413af8880 l=127.0.0.1:51000 r=68.199.56.76:53563\n",
            "t=2025-05-12T21:34:14+0000 lvl=info msg=\"join connections\" obj=join id=a1eb83c1dc17 l=127.0.0.1:51000 r=68.199.56.76:53564\n",
            "t=2025-05-12T21:34:14+0000 lvl=info msg=\"join connections\" obj=join id=2eed30ea563a l=127.0.0.1:51000 r=68.199.56.76:53565\n",
            "t=2025-05-12T21:34:15+0000 lvl=info msg=\"join connections\" obj=join id=40287d4b753d l=127.0.0.1:51000 r=68.199.56.76:53566\n",
            "t=2025-05-12T21:34:15+0000 lvl=info msg=\"join connections\" obj=join id=fea3a71703fc l=127.0.0.1:51000 r=68.199.56.76:53567\n",
            "t=2025-05-12T21:34:16+0000 lvl=info msg=\"join connections\" obj=join id=e4e37793f30c l=127.0.0.1:51000 r=68.199.56.76:53568\n",
            "t=2025-05-12T21:34:16+0000 lvl=info msg=\"join connections\" obj=join id=4e2e8d387637 l=127.0.0.1:51000 r=68.199.56.76:53569\n",
            "t=2025-05-12T21:34:17+0000 lvl=info msg=\"join connections\" obj=join id=2012cc441fcc l=127.0.0.1:51000 r=68.199.56.76:53570\n",
            "t=2025-05-12T21:34:18+0000 lvl=info msg=\"join connections\" obj=join id=102355a0eed1 l=127.0.0.1:51000 r=68.199.56.76:53571\n",
            "t=2025-05-12T21:34:18+0000 lvl=info msg=\"join connections\" obj=join id=434e88a72715 l=127.0.0.1:51000 r=68.199.56.76:53572\n",
            "t=2025-05-12T21:34:19+0000 lvl=info msg=\"join connections\" obj=join id=a9ebd721ce62 l=127.0.0.1:51000 r=68.199.56.76:53573\n",
            "t=2025-05-12T21:34:19+0000 lvl=info msg=\"join connections\" obj=join id=f66efeee7561 l=127.0.0.1:51000 r=68.199.56.76:53574\n",
            "t=2025-05-12T21:34:20+0000 lvl=info msg=\"join connections\" obj=join id=26bf46d59f58 l=127.0.0.1:51000 r=68.199.56.76:53575\n",
            "t=2025-05-12T21:34:20+0000 lvl=info msg=\"join connections\" obj=join id=601d3c07110e l=127.0.0.1:51000 r=68.199.56.76:53576\n",
            "t=2025-05-12T21:34:21+0000 lvl=info msg=\"join connections\" obj=join id=0ad4b888d97d l=127.0.0.1:51000 r=68.199.56.76:53577\n",
            "t=2025-05-12T21:34:21+0000 lvl=info msg=\"join connections\" obj=join id=f85e86c9f0ce l=127.0.0.1:51000 r=68.199.56.76:53578\n",
            "t=2025-05-12T21:34:22+0000 lvl=info msg=\"join connections\" obj=join id=9e8ab9ab63ee l=127.0.0.1:51000 r=68.199.56.76:53579\n",
            "t=2025-05-12T21:34:22+0000 lvl=info msg=\"join connections\" obj=join id=48f599405573 l=127.0.0.1:51000 r=68.199.56.76:53580\n",
            "t=2025-05-12T21:34:23+0000 lvl=info msg=\"join connections\" obj=join id=b00e908c7f1a l=127.0.0.1:51000 r=68.199.56.76:53581\n",
            "t=2025-05-12T21:34:23+0000 lvl=info msg=\"join connections\" obj=join id=690d63a048e2 l=127.0.0.1:51000 r=68.199.56.76:53582\n",
            "t=2025-05-12T21:34:24+0000 lvl=info msg=\"join connections\" obj=join id=4cd4a9ace896 l=127.0.0.1:51000 r=68.199.56.76:53583\n",
            "t=2025-05-12T21:34:25+0000 lvl=info msg=\"join connections\" obj=join id=9dc159105b5f l=127.0.0.1:51000 r=68.199.56.76:53584\n",
            "t=2025-05-12T21:34:25+0000 lvl=info msg=\"join connections\" obj=join id=73a0f64b9ab2 l=127.0.0.1:51000 r=68.199.56.76:53585\n",
            "t=2025-05-12T21:34:26+0000 lvl=info msg=\"join connections\" obj=join id=c3ee5a885d14 l=127.0.0.1:51000 r=68.199.56.76:53586\n",
            "t=2025-05-12T21:34:26+0000 lvl=info msg=\"join connections\" obj=join id=dbbd26a8cc04 l=127.0.0.1:51000 r=68.199.56.76:53589\n",
            "t=2025-05-12T21:34:27+0000 lvl=info msg=\"join connections\" obj=join id=ec08ec2922c8 l=127.0.0.1:51000 r=68.199.56.76:53590\n",
            "t=2025-05-12T21:34:27+0000 lvl=info msg=\"join connections\" obj=join id=ebea59dd20c3 l=127.0.0.1:51000 r=68.199.56.76:53594\n",
            "t=2025-05-12T21:34:28+0000 lvl=info msg=\"join connections\" obj=join id=b7e4f5bdf9df l=127.0.0.1:51000 r=68.199.56.76:53595\n",
            "t=2025-05-12T21:34:28+0000 lvl=info msg=\"join connections\" obj=join id=b59c0d28dec7 l=127.0.0.1:51000 r=68.199.56.76:53596\n",
            "t=2025-05-12T21:34:29+0000 lvl=info msg=\"join connections\" obj=join id=cdceb0cab4e9 l=127.0.0.1:51000 r=68.199.56.76:53597\n",
            "t=2025-05-12T21:34:29+0000 lvl=info msg=\"join connections\" obj=join id=3ed44c50bbde l=127.0.0.1:51000 r=68.199.56.76:53598\n",
            "t=2025-05-12T21:34:30+0000 lvl=info msg=\"join connections\" obj=join id=ad575f8ab816 l=127.0.0.1:51000 r=68.199.56.76:53599\n",
            "t=2025-05-12T21:34:30+0000 lvl=info msg=\"join connections\" obj=join id=b628e18c9091 l=127.0.0.1:51000 r=68.199.56.76:53600\n",
            "t=2025-05-12T21:34:31+0000 lvl=info msg=\"join connections\" obj=join id=2aec8f4e9717 l=127.0.0.1:51000 r=68.199.56.76:53601\n",
            "t=2025-05-12T21:34:31+0000 lvl=info msg=\"join connections\" obj=join id=3c136fa25725 l=127.0.0.1:51000 r=68.199.56.76:53602\n",
            "t=2025-05-12T21:34:32+0000 lvl=info msg=\"join connections\" obj=join id=a2d5d061bf2d l=127.0.0.1:51000 r=68.199.56.76:53603\n",
            "t=2025-05-12T21:34:33+0000 lvl=info msg=\"join connections\" obj=join id=739944077ead l=127.0.0.1:51000 r=68.199.56.76:53604\n",
            "t=2025-05-12T21:34:33+0000 lvl=info msg=\"join connections\" obj=join id=5aed8634d71b l=127.0.0.1:51000 r=68.199.56.76:53605\n",
            "t=2025-05-12T21:34:34+0000 lvl=info msg=\"join connections\" obj=join id=5c36f824f644 l=127.0.0.1:51000 r=68.199.56.76:53606\n",
            "t=2025-05-12T21:34:34+0000 lvl=info msg=\"join connections\" obj=join id=e1efde523771 l=127.0.0.1:51000 r=68.199.56.76:53607\n",
            "t=2025-05-12T21:34:35+0000 lvl=info msg=\"join connections\" obj=join id=b803c56405ee l=127.0.0.1:51000 r=68.199.56.76:53608\n",
            "t=2025-05-12T21:34:35+0000 lvl=info msg=\"join connections\" obj=join id=dd206a2aa0f1 l=127.0.0.1:51000 r=68.199.56.76:53609\n",
            "t=2025-05-12T21:34:36+0000 lvl=info msg=\"join connections\" obj=join id=1c466bb7f401 l=127.0.0.1:51000 r=68.199.56.76:53610\n",
            "t=2025-05-12T21:34:36+0000 lvl=info msg=\"join connections\" obj=join id=022a5e449967 l=127.0.0.1:51000 r=68.199.56.76:53611\n",
            "t=2025-05-12T21:34:37+0000 lvl=info msg=\"join connections\" obj=join id=a24a34dd438c l=127.0.0.1:51000 r=68.199.56.76:53612\n",
            "t=2025-05-12T21:34:37+0000 lvl=info msg=\"join connections\" obj=join id=3cfb0629b2b6 l=127.0.0.1:51000 r=68.199.56.76:53613\n",
            "t=2025-05-12T21:34:38+0000 lvl=info msg=\"join connections\" obj=join id=c9ac248181c6 l=127.0.0.1:51000 r=68.199.56.76:53614\n",
            "t=2025-05-12T21:34:38+0000 lvl=info msg=\"join connections\" obj=join id=b2ea03b5e497 l=127.0.0.1:51000 r=68.199.56.76:53615\n",
            "t=2025-05-12T21:34:39+0000 lvl=info msg=\"join connections\" obj=join id=6a9140ab1d2c l=127.0.0.1:51000 r=68.199.56.76:53616\n",
            "t=2025-05-12T21:34:39+0000 lvl=info msg=\"join connections\" obj=join id=3dbaa71f7c06 l=127.0.0.1:51000 r=68.199.56.76:53617\n",
            "t=2025-05-12T21:34:40+0000 lvl=info msg=\"join connections\" obj=join id=5b7f8a67e799 l=127.0.0.1:51000 r=68.199.56.76:53618\n",
            "t=2025-05-12T21:34:41+0000 lvl=info msg=\"join connections\" obj=join id=ec2ac81f706f l=127.0.0.1:51000 r=68.199.56.76:53619\n",
            "t=2025-05-12T21:34:41+0000 lvl=info msg=\"join connections\" obj=join id=b45aeb2dc20b l=127.0.0.1:51000 r=68.199.56.76:53620\n",
            "t=2025-05-12T21:34:42+0000 lvl=info msg=\"join connections\" obj=join id=15df368814eb l=127.0.0.1:51000 r=68.199.56.76:53621\n",
            "t=2025-05-12T21:34:42+0000 lvl=info msg=\"join connections\" obj=join id=525009fe27ec l=127.0.0.1:51000 r=68.199.56.76:53622\n",
            "t=2025-05-12T21:34:43+0000 lvl=info msg=\"join connections\" obj=join id=f2697a536829 l=127.0.0.1:51000 r=68.199.56.76:53623\n",
            "t=2025-05-12T21:34:43+0000 lvl=info msg=\"join connections\" obj=join id=dd2580bd1316 l=127.0.0.1:51000 r=68.199.56.76:53624\n",
            "t=2025-05-12T21:34:44+0000 lvl=info msg=\"join connections\" obj=join id=12e511308066 l=127.0.0.1:51000 r=68.199.56.76:53625\n",
            "t=2025-05-12T21:34:44+0000 lvl=info msg=\"join connections\" obj=join id=c8394f71e1f8 l=127.0.0.1:51000 r=68.199.56.76:53626\n",
            "t=2025-05-12T21:34:45+0000 lvl=info msg=\"join connections\" obj=join id=90ab0692ce92 l=127.0.0.1:51000 r=68.199.56.76:53627\n",
            "t=2025-05-12T21:34:45+0000 lvl=info msg=\"join connections\" obj=join id=ddb6a063055c l=127.0.0.1:51000 r=68.199.56.76:53628\n",
            "t=2025-05-12T21:34:46+0000 lvl=info msg=\"join connections\" obj=join id=131091157be4 l=127.0.0.1:51000 r=68.199.56.76:53629\n",
            "t=2025-05-12T21:34:46+0000 lvl=info msg=\"join connections\" obj=join id=644c1fb9b71d l=127.0.0.1:51000 r=68.199.56.76:53630\n",
            "t=2025-05-12T21:34:47+0000 lvl=info msg=\"join connections\" obj=join id=c19a3d5f9bf5 l=127.0.0.1:51000 r=68.199.56.76:53631\n",
            "t=2025-05-12T21:34:48+0000 lvl=info msg=\"join connections\" obj=join id=c2e67b8a568f l=127.0.0.1:51000 r=68.199.56.76:53632\n",
            "t=2025-05-12T21:34:48+0000 lvl=info msg=\"join connections\" obj=join id=55b071a90764 l=127.0.0.1:51000 r=68.199.56.76:53633\n",
            "t=2025-05-12T21:34:49+0000 lvl=info msg=\"join connections\" obj=join id=25d95584582c l=127.0.0.1:51000 r=68.199.56.76:53634\n",
            "t=2025-05-12T21:34:49+0000 lvl=info msg=\"join connections\" obj=join id=3b9594d804e5 l=127.0.0.1:51000 r=68.199.56.76:53635\n",
            "t=2025-05-12T21:34:50+0000 lvl=info msg=\"join connections\" obj=join id=096a111d51a8 l=127.0.0.1:51000 r=68.199.56.76:53636\n",
            "t=2025-05-12T21:34:50+0000 lvl=info msg=\"join connections\" obj=join id=27ae6a187d4e l=127.0.0.1:51000 r=68.199.56.76:53637\n",
            "t=2025-05-12T21:34:51+0000 lvl=info msg=\"join connections\" obj=join id=bed2c8b7dda8 l=127.0.0.1:51000 r=68.199.56.76:53638\n",
            "t=2025-05-12T21:34:51+0000 lvl=info msg=\"join connections\" obj=join id=70e75e217b8c l=127.0.0.1:51000 r=68.199.56.76:53639\n",
            "t=2025-05-12T21:34:52+0000 lvl=info msg=\"join connections\" obj=join id=dbdd04908729 l=127.0.0.1:51000 r=68.199.56.76:53640\n",
            "t=2025-05-12T21:34:52+0000 lvl=info msg=\"join connections\" obj=join id=a9481fb540b1 l=127.0.0.1:51000 r=68.199.56.76:53641\n",
            "t=2025-05-12T21:34:53+0000 lvl=info msg=\"join connections\" obj=join id=f730f32f4ea7 l=127.0.0.1:51000 r=68.199.56.76:53642\n",
            "t=2025-05-12T21:34:53+0000 lvl=info msg=\"join connections\" obj=join id=a863f977590c l=127.0.0.1:51000 r=68.199.56.76:53643\n",
            "t=2025-05-12T21:34:54+0000 lvl=info msg=\"join connections\" obj=join id=c1a87ac860ce l=127.0.0.1:51000 r=68.199.56.76:53644\n",
            "t=2025-05-12T21:34:55+0000 lvl=info msg=\"join connections\" obj=join id=5547892df0ac l=127.0.0.1:51000 r=68.199.56.76:53645\n",
            "t=2025-05-12T21:34:55+0000 lvl=info msg=\"join connections\" obj=join id=3a20bd0a8872 l=127.0.0.1:51000 r=68.199.56.76:53647\n",
            "t=2025-05-12T21:34:56+0000 lvl=info msg=\"join connections\" obj=join id=b7b19ced2281 l=127.0.0.1:51000 r=68.199.56.76:53648\n",
            "t=2025-05-12T21:34:56+0000 lvl=info msg=\"join connections\" obj=join id=3b92180fe0b2 l=127.0.0.1:51000 r=68.199.56.76:53649\n",
            "t=2025-05-12T21:34:57+0000 lvl=info msg=\"join connections\" obj=join id=358b2532c147 l=127.0.0.1:51000 r=68.199.56.76:53650\n",
            "t=2025-05-12T21:34:57+0000 lvl=info msg=\"join connections\" obj=join id=c3f5b03c8070 l=127.0.0.1:51000 r=68.199.56.76:53651\n",
            "t=2025-05-12T21:34:58+0000 lvl=info msg=\"join connections\" obj=join id=5b6436af4cb8 l=127.0.0.1:51000 r=68.199.56.76:53652\n",
            "t=2025-05-12T21:34:58+0000 lvl=info msg=\"join connections\" obj=join id=60e6b9700f51 l=127.0.0.1:51000 r=68.199.56.76:53653\n",
            "t=2025-05-12T21:34:59+0000 lvl=info msg=\"join connections\" obj=join id=2fa7a3614ebd l=127.0.0.1:51000 r=68.199.56.76:53654\n",
            "t=2025-05-12T21:34:59+0000 lvl=info msg=\"join connections\" obj=join id=c68bb0fe4d44 l=127.0.0.1:51000 r=68.199.56.76:53655\n",
            "t=2025-05-12T21:35:00+0000 lvl=info msg=\"join connections\" obj=join id=3e7db4ed5b80 l=127.0.0.1:51000 r=68.199.56.76:53656\n",
            "t=2025-05-12T21:35:00+0000 lvl=info msg=\"join connections\" obj=join id=17336e650eb2 l=127.0.0.1:51000 r=68.199.56.76:53657\n",
            "t=2025-05-12T21:35:01+0000 lvl=info msg=\"join connections\" obj=join id=1648819687c3 l=127.0.0.1:51000 r=68.199.56.76:53658\n",
            "t=2025-05-12T21:35:02+0000 lvl=info msg=\"join connections\" obj=join id=4a9ccdff25b6 l=127.0.0.1:51000 r=68.199.56.76:53659\n",
            "t=2025-05-12T21:35:02+0000 lvl=info msg=\"join connections\" obj=join id=c3ad6e4e1df7 l=127.0.0.1:51000 r=68.199.56.76:53660\n",
            "t=2025-05-12T21:35:03+0000 lvl=info msg=\"join connections\" obj=join id=92a5176f5543 l=127.0.0.1:51000 r=68.199.56.76:53661\n",
            "t=2025-05-12T21:35:03+0000 lvl=info msg=\"join connections\" obj=join id=af7b9daf9393 l=127.0.0.1:51000 r=68.199.56.76:53662\n",
            "t=2025-05-12T21:35:04+0000 lvl=info msg=\"join connections\" obj=join id=d665de164ff6 l=127.0.0.1:51000 r=68.199.56.76:53663\n",
            "t=2025-05-12T21:35:04+0000 lvl=info msg=\"join connections\" obj=join id=3c8d0a63eef3 l=127.0.0.1:51000 r=68.199.56.76:53664\n",
            "t=2025-05-12T21:35:05+0000 lvl=info msg=\"join connections\" obj=join id=be558c254447 l=127.0.0.1:51000 r=68.199.56.76:53665\n",
            "t=2025-05-12T21:35:05+0000 lvl=info msg=\"join connections\" obj=join id=c663d7e61507 l=127.0.0.1:51000 r=68.199.56.76:53666\n",
            "t=2025-05-12T21:35:06+0000 lvl=info msg=\"join connections\" obj=join id=bc708b4b5ec5 l=127.0.0.1:51000 r=68.199.56.76:53667\n",
            "t=2025-05-12T21:35:06+0000 lvl=info msg=\"join connections\" obj=join id=8ff024eaa2eb l=127.0.0.1:51000 r=68.199.56.76:53668\n",
            "t=2025-05-12T21:35:07+0000 lvl=info msg=\"join connections\" obj=join id=6d41fcea0239 l=127.0.0.1:51000 r=68.199.56.76:53669\n",
            "t=2025-05-12T21:35:07+0000 lvl=info msg=\"join connections\" obj=join id=05438e9dc52e l=127.0.0.1:51000 r=68.199.56.76:53670\n",
            "t=2025-05-12T21:35:08+0000 lvl=info msg=\"join connections\" obj=join id=ead772b47a37 l=127.0.0.1:51000 r=68.199.56.76:53672\n",
            "t=2025-05-12T21:35:09+0000 lvl=info msg=\"join connections\" obj=join id=d012d1915b46 l=127.0.0.1:51000 r=68.199.56.76:53674\n",
            "t=2025-05-12T21:35:09+0000 lvl=info msg=\"join connections\" obj=join id=490a626aae3c l=127.0.0.1:51000 r=68.199.56.76:53676\n",
            "t=2025-05-12T21:35:10+0000 lvl=info msg=\"join connections\" obj=join id=a2ce1fb69c96 l=127.0.0.1:51000 r=68.199.56.76:53677\n",
            "t=2025-05-12T21:35:10+0000 lvl=info msg=\"join connections\" obj=join id=f57c1094ccc8 l=127.0.0.1:51000 r=68.199.56.76:53678\n",
            "t=2025-05-12T21:35:11+0000 lvl=info msg=\"join connections\" obj=join id=4389d0a4a494 l=127.0.0.1:51000 r=68.199.56.76:53679\n",
            "t=2025-05-12T21:35:11+0000 lvl=info msg=\"join connections\" obj=join id=6ce5ed758c78 l=127.0.0.1:51000 r=68.199.56.76:53680\n",
            "t=2025-05-12T21:35:12+0000 lvl=info msg=\"join connections\" obj=join id=551dd3a7cbf8 l=127.0.0.1:51000 r=68.199.56.76:53681\n",
            "t=2025-05-12T21:35:12+0000 lvl=info msg=\"join connections\" obj=join id=9aa052bd725d l=127.0.0.1:51000 r=68.199.56.76:53682\n",
            "t=2025-05-12T21:35:13+0000 lvl=info msg=\"join connections\" obj=join id=88ca492f320f l=127.0.0.1:51000 r=68.199.56.76:53683\n",
            "t=2025-05-12T21:35:13+0000 lvl=info msg=\"join connections\" obj=join id=68d23aa46486 l=127.0.0.1:51000 r=68.199.56.76:53684\n",
            "t=2025-05-12T21:35:14+0000 lvl=info msg=\"join connections\" obj=join id=dd88d6c94896 l=127.0.0.1:51000 r=68.199.56.76:53685\n",
            "t=2025-05-12T21:35:15+0000 lvl=info msg=\"join connections\" obj=join id=aba51bd3b95f l=127.0.0.1:51000 r=68.199.56.76:53686\n",
            "t=2025-05-12T21:35:15+0000 lvl=info msg=\"join connections\" obj=join id=e74b570354e5 l=127.0.0.1:51000 r=68.199.56.76:53687\n",
            "t=2025-05-12T21:35:16+0000 lvl=info msg=\"join connections\" obj=join id=687698b3fa88 l=127.0.0.1:51000 r=68.199.56.76:53688\n",
            "t=2025-05-12T21:35:16+0000 lvl=info msg=\"join connections\" obj=join id=c53fb34446f1 l=127.0.0.1:51000 r=68.199.56.76:53689\n",
            "t=2025-05-12T21:35:17+0000 lvl=info msg=\"join connections\" obj=join id=5330ab01f75e l=127.0.0.1:51000 r=68.199.56.76:53690\n",
            "t=2025-05-12T21:35:17+0000 lvl=info msg=\"join connections\" obj=join id=200e14c14ef2 l=127.0.0.1:51000 r=68.199.56.76:53691\n",
            "t=2025-05-12T21:35:18+0000 lvl=info msg=\"join connections\" obj=join id=f9ec91511662 l=127.0.0.1:51000 r=68.199.56.76:53692\n",
            "t=2025-05-12T21:35:18+0000 lvl=info msg=\"join connections\" obj=join id=0b8e7b947a02 l=127.0.0.1:51000 r=68.199.56.76:53693\n",
            "t=2025-05-12T21:35:19+0000 lvl=info msg=\"join connections\" obj=join id=c2f4e22ed019 l=127.0.0.1:51000 r=68.199.56.76:53694\n",
            "t=2025-05-12T21:35:19+0000 lvl=info msg=\"join connections\" obj=join id=29ca9aa2bd75 l=127.0.0.1:51000 r=68.199.56.76:53695\n",
            "t=2025-05-12T21:35:20+0000 lvl=info msg=\"join connections\" obj=join id=b05532ac7294 l=127.0.0.1:51000 r=68.199.56.76:53696\n",
            "t=2025-05-12T21:35:20+0000 lvl=info msg=\"join connections\" obj=join id=5a6c8508ad20 l=127.0.0.1:51000 r=68.199.56.76:53697\n",
            "t=2025-05-12T21:35:21+0000 lvl=info msg=\"join connections\" obj=join id=9b090a7eb70c l=127.0.0.1:51000 r=68.199.56.76:53698\n",
            "t=2025-05-12T21:35:21+0000 lvl=info msg=\"join connections\" obj=join id=9891af5e33e3 l=127.0.0.1:51000 r=68.199.56.76:53699\n",
            "t=2025-05-12T21:35:22+0000 lvl=info msg=\"join connections\" obj=join id=69f8ba57907e l=127.0.0.1:51000 r=68.199.56.76:53700\n",
            "t=2025-05-12T21:35:23+0000 lvl=info msg=\"join connections\" obj=join id=cce44fb207c3 l=127.0.0.1:51000 r=68.199.56.76:53701\n",
            "t=2025-05-12T21:35:23+0000 lvl=info msg=\"join connections\" obj=join id=474a65084261 l=127.0.0.1:51000 r=68.199.56.76:53702\n",
            "t=2025-05-12T21:35:24+0000 lvl=info msg=\"join connections\" obj=join id=b3903f18a641 l=127.0.0.1:51000 r=68.199.56.76:53703\n",
            "t=2025-05-12T21:35:24+0000 lvl=info msg=\"join connections\" obj=join id=b60a8b048037 l=127.0.0.1:51000 r=68.199.56.76:53704\n",
            "t=2025-05-12T21:35:25+0000 lvl=info msg=\"join connections\" obj=join id=e3948d5a72eb l=127.0.0.1:51000 r=68.199.56.76:53705\n",
            "t=2025-05-12T21:35:25+0000 lvl=info msg=\"join connections\" obj=join id=03a48f89d81e l=127.0.0.1:51000 r=68.199.56.76:53706\n",
            "t=2025-05-12T21:35:26+0000 lvl=info msg=\"join connections\" obj=join id=a9182df1fa6a l=127.0.0.1:51000 r=68.199.56.76:53707\n",
            "t=2025-05-12T21:35:26+0000 lvl=info msg=\"join connections\" obj=join id=b180ec0eea12 l=127.0.0.1:51000 r=68.199.56.76:53708\n",
            "t=2025-05-12T21:35:27+0000 lvl=info msg=\"join connections\" obj=join id=7988794f266b l=127.0.0.1:51000 r=68.199.56.76:53709\n",
            "t=2025-05-12T21:35:27+0000 lvl=info msg=\"join connections\" obj=join id=fb80015c6720 l=127.0.0.1:51000 r=68.199.56.76:53710\n",
            "t=2025-05-12T21:35:28+0000 lvl=info msg=\"join connections\" obj=join id=3ed4ec161914 l=127.0.0.1:51000 r=68.199.56.76:53711\n",
            "t=2025-05-12T21:35:28+0000 lvl=info msg=\"join connections\" obj=join id=4ea310a9da68 l=127.0.0.1:51000 r=68.199.56.76:53712\n",
            "t=2025-05-12T21:35:29+0000 lvl=info msg=\"join connections\" obj=join id=259d142b59dc l=127.0.0.1:51000 r=68.199.56.76:53713\n",
            "t=2025-05-12T21:35:29+0000 lvl=info msg=\"join connections\" obj=join id=e6234087128a l=127.0.0.1:51000 r=68.199.56.76:53714\n",
            "t=2025-05-12T21:35:30+0000 lvl=info msg=\"join connections\" obj=join id=065e8a1a1439 l=127.0.0.1:51000 r=68.199.56.76:53715\n",
            "t=2025-05-12T21:35:31+0000 lvl=info msg=\"join connections\" obj=join id=528d0cf49483 l=127.0.0.1:51000 r=68.199.56.76:53716\n",
            "t=2025-05-12T21:35:31+0000 lvl=info msg=\"join connections\" obj=join id=634a92b874ae l=127.0.0.1:51000 r=68.199.56.76:53717\n",
            "t=2025-05-12T21:35:32+0000 lvl=info msg=\"join connections\" obj=join id=6ffdfdab68df l=127.0.0.1:51000 r=68.199.56.76:53718\n",
            "t=2025-05-12T21:35:32+0000 lvl=info msg=\"join connections\" obj=join id=5e85ce1f1e9d l=127.0.0.1:51000 r=68.199.56.76:53719\n",
            "t=2025-05-12T21:35:33+0000 lvl=info msg=\"join connections\" obj=join id=54bccd580671 l=127.0.0.1:51000 r=68.199.56.76:53720\n",
            "t=2025-05-12T21:35:33+0000 lvl=info msg=\"join connections\" obj=join id=f39c67d511aa l=127.0.0.1:51000 r=68.199.56.76:53721\n",
            "t=2025-05-12T21:35:34+0000 lvl=info msg=\"join connections\" obj=join id=c87ea5111326 l=127.0.0.1:51000 r=68.199.56.76:53722\n",
            "t=2025-05-12T21:35:34+0000 lvl=info msg=\"join connections\" obj=join id=d6f051a5949a l=127.0.0.1:51000 r=68.199.56.76:53723\n",
            "t=2025-05-12T21:35:35+0000 lvl=info msg=\"join connections\" obj=join id=53fbf263a3c6 l=127.0.0.1:51000 r=68.199.56.76:53724\n",
            "t=2025-05-12T21:35:35+0000 lvl=info msg=\"join connections\" obj=join id=4ad4ce56bd14 l=127.0.0.1:51000 r=68.199.56.76:53725\n",
            "t=2025-05-12T21:35:36+0000 lvl=info msg=\"join connections\" obj=join id=f801016df2ce l=127.0.0.1:51000 r=68.199.56.76:53726\n",
            "t=2025-05-12T21:35:36+0000 lvl=info msg=\"join connections\" obj=join id=437c56be1e34 l=127.0.0.1:51000 r=68.199.56.76:53727\n",
            "t=2025-05-12T21:35:37+0000 lvl=info msg=\"join connections\" obj=join id=492a8a4e6297 l=127.0.0.1:51000 r=68.199.56.76:53728\n",
            "t=2025-05-12T21:35:37+0000 lvl=info msg=\"join connections\" obj=join id=d9f2c26da2ce l=127.0.0.1:51000 r=68.199.56.76:53730\n",
            "t=2025-05-12T21:35:38+0000 lvl=info msg=\"join connections\" obj=join id=d7deed9b5605 l=127.0.0.1:51000 r=68.199.56.76:53731\n",
            "t=2025-05-12T21:35:39+0000 lvl=info msg=\"join connections\" obj=join id=c13ddd5d7255 l=127.0.0.1:51000 r=68.199.56.76:53732\n",
            "t=2025-05-12T21:35:39+0000 lvl=info msg=\"join connections\" obj=join id=88ce625e5ea9 l=127.0.0.1:51000 r=68.199.56.76:53733\n",
            "t=2025-05-12T21:35:40+0000 lvl=info msg=\"join connections\" obj=join id=3bd6083f4d7a l=127.0.0.1:51000 r=68.199.56.76:53734\n",
            "t=2025-05-12T21:35:40+0000 lvl=info msg=\"join connections\" obj=join id=5b755720a352 l=127.0.0.1:51000 r=68.199.56.76:53735\n",
            "t=2025-05-12T21:35:41+0000 lvl=info msg=\"join connections\" obj=join id=a9e4b6a006df l=127.0.0.1:51000 r=68.199.56.76:53736\n",
            "t=2025-05-12T21:35:41+0000 lvl=info msg=\"join connections\" obj=join id=663c98cc40a7 l=127.0.0.1:51000 r=68.199.56.76:53737\n",
            "t=2025-05-12T21:35:42+0000 lvl=info msg=\"join connections\" obj=join id=0aa09259ec9c l=127.0.0.1:51000 r=68.199.56.76:53738\n",
            "t=2025-05-12T21:35:42+0000 lvl=info msg=\"join connections\" obj=join id=5fd5335231c3 l=127.0.0.1:51000 r=68.199.56.76:53739\n",
            "t=2025-05-12T21:35:43+0000 lvl=info msg=\"join connections\" obj=join id=c09cc621d906 l=127.0.0.1:51000 r=68.199.56.76:53740\n",
            "t=2025-05-12T21:35:43+0000 lvl=info msg=\"join connections\" obj=join id=c9bed427e7d4 l=127.0.0.1:51000 r=68.199.56.76:53741\n",
            "t=2025-05-12T21:35:44+0000 lvl=info msg=\"join connections\" obj=join id=c732265de2ad l=127.0.0.1:51000 r=68.199.56.76:53742\n",
            "t=2025-05-12T21:35:44+0000 lvl=info msg=\"join connections\" obj=join id=bc5d430206e1 l=127.0.0.1:51000 r=68.199.56.76:53743\n",
            "t=2025-05-12T21:35:45+0000 lvl=info msg=\"join connections\" obj=join id=672547f96cb7 l=127.0.0.1:51000 r=68.199.56.76:53744\n",
            "t=2025-05-12T21:35:45+0000 lvl=info msg=\"join connections\" obj=join id=6c53ab0b9785 l=127.0.0.1:51000 r=68.199.56.76:53745\n",
            "t=2025-05-12T21:35:46+0000 lvl=info msg=\"join connections\" obj=join id=55e1496ca627 l=127.0.0.1:51000 r=68.199.56.76:53746\n",
            "t=2025-05-12T21:35:47+0000 lvl=info msg=\"join connections\" obj=join id=68f4c43e6515 l=127.0.0.1:51000 r=68.199.56.76:53747\n",
            "t=2025-05-12T21:35:47+0000 lvl=info msg=\"join connections\" obj=join id=707f53eeb665 l=127.0.0.1:51000 r=68.199.56.76:53748\n",
            "t=2025-05-12T21:35:48+0000 lvl=info msg=\"join connections\" obj=join id=280a3fc6ff25 l=127.0.0.1:51000 r=68.199.56.76:53749\n",
            "t=2025-05-12T21:35:48+0000 lvl=info msg=\"join connections\" obj=join id=b3a3ce176fb1 l=127.0.0.1:51000 r=68.199.56.76:53750\n",
            "t=2025-05-12T21:35:49+0000 lvl=info msg=\"join connections\" obj=join id=f52a44266f58 l=127.0.0.1:51000 r=68.199.56.76:53751\n",
            "t=2025-05-12T21:35:49+0000 lvl=info msg=\"join connections\" obj=join id=31f8b0f6d05d l=127.0.0.1:51000 r=68.199.56.76:53752\n",
            "t=2025-05-12T21:35:50+0000 lvl=info msg=\"join connections\" obj=join id=943e45524e83 l=127.0.0.1:51000 r=68.199.56.76:53753\n",
            "t=2025-05-12T21:35:50+0000 lvl=info msg=\"join connections\" obj=join id=0703c77a9d16 l=127.0.0.1:51000 r=68.199.56.76:53754\n",
            "t=2025-05-12T21:35:51+0000 lvl=info msg=\"join connections\" obj=join id=1a44d0983c2f l=127.0.0.1:51000 r=68.199.56.76:53755\n",
            "t=2025-05-12T21:35:51+0000 lvl=info msg=\"join connections\" obj=join id=b9669b63494d l=127.0.0.1:51000 r=68.199.56.76:53756\n",
            "t=2025-05-12T21:35:52+0000 lvl=info msg=\"join connections\" obj=join id=08cc712ca7e8 l=127.0.0.1:51000 r=68.199.56.76:53757\n",
            "t=2025-05-12T21:35:52+0000 lvl=info msg=\"join connections\" obj=join id=131d947fc85a l=127.0.0.1:51000 r=68.199.56.76:53758\n",
            "t=2025-05-12T21:35:53+0000 lvl=info msg=\"join connections\" obj=join id=9cc085ed6397 l=127.0.0.1:51000 r=68.199.56.76:53759\n",
            "t=2025-05-12T21:35:53+0000 lvl=info msg=\"join connections\" obj=join id=d0a0c0d0916f l=127.0.0.1:51000 r=68.199.56.76:53760\n",
            "t=2025-05-12T21:35:54+0000 lvl=info msg=\"join connections\" obj=join id=b9e5e3bec1dc l=127.0.0.1:51000 r=68.199.56.76:53761\n",
            "t=2025-05-12T21:35:54+0000 lvl=info msg=\"join connections\" obj=join id=ea730d49e783 l=127.0.0.1:51000 r=68.199.56.76:53762\n",
            "t=2025-05-12T21:35:55+0000 lvl=info msg=\"join connections\" obj=join id=0483c55ba2c1 l=127.0.0.1:51000 r=68.199.56.76:53763\n",
            "t=2025-05-12T21:35:55+0000 lvl=info msg=\"join connections\" obj=join id=a2e790ead393 l=127.0.0.1:51000 r=68.199.56.76:53764\n",
            "t=2025-05-12T21:35:56+0000 lvl=info msg=\"join connections\" obj=join id=37a319400503 l=127.0.0.1:51000 r=68.199.56.76:53765\n",
            "t=2025-05-12T21:35:57+0000 lvl=info msg=\"join connections\" obj=join id=6def24a9167f l=127.0.0.1:51000 r=68.199.56.76:53766\n",
            "t=2025-05-12T21:35:57+0000 lvl=info msg=\"join connections\" obj=join id=0fb5e4b56a23 l=127.0.0.1:51000 r=68.199.56.76:53767\n",
            "t=2025-05-12T21:35:58+0000 lvl=info msg=\"join connections\" obj=join id=306d2627c11d l=127.0.0.1:51000 r=68.199.56.76:53768\n",
            "t=2025-05-12T21:35:58+0000 lvl=info msg=\"join connections\" obj=join id=d6cb4e506bd4 l=127.0.0.1:51000 r=68.199.56.76:53769\n",
            "t=2025-05-12T21:35:59+0000 lvl=info msg=\"join connections\" obj=join id=9d7b393ca0c3 l=127.0.0.1:51000 r=68.199.56.76:53770\n",
            "t=2025-05-12T21:35:59+0000 lvl=info msg=\"join connections\" obj=join id=9a76e284f4f8 l=127.0.0.1:51000 r=68.199.56.76:53771\n",
            "t=2025-05-12T21:36:00+0000 lvl=info msg=\"join connections\" obj=join id=3d9ae629ddcc l=127.0.0.1:51000 r=68.199.56.76:53772\n",
            "t=2025-05-12T21:36:00+0000 lvl=info msg=\"join connections\" obj=join id=764acc449ac3 l=127.0.0.1:51000 r=68.199.56.76:53773\n",
            "t=2025-05-12T21:36:01+0000 lvl=info msg=\"join connections\" obj=join id=8e39a89f4f83 l=127.0.0.1:51000 r=68.199.56.76:53774\n",
            "t=2025-05-12T21:36:01+0000 lvl=info msg=\"join connections\" obj=join id=8f34c79cedb7 l=127.0.0.1:51000 r=68.199.56.76:53775\n",
            "t=2025-05-12T21:36:02+0000 lvl=info msg=\"join connections\" obj=join id=8d6021c2b7fb l=127.0.0.1:51000 r=68.199.56.76:53776\n",
            "t=2025-05-12T21:36:02+0000 lvl=info msg=\"join connections\" obj=join id=ecb98ca42668 l=127.0.0.1:51000 r=68.199.56.76:53777\n",
            "t=2025-05-12T21:36:03+0000 lvl=info msg=\"join connections\" obj=join id=479445dc8c9e l=127.0.0.1:51000 r=68.199.56.76:53778\n",
            "t=2025-05-12T21:36:04+0000 lvl=info msg=\"join connections\" obj=join id=58acf41018bd l=127.0.0.1:51000 r=68.199.56.76:53779\n",
            "t=2025-05-12T21:36:04+0000 lvl=info msg=\"join connections\" obj=join id=4e9ff1f26f30 l=127.0.0.1:51000 r=68.199.56.76:53780\n",
            "t=2025-05-12T21:36:05+0000 lvl=info msg=\"join connections\" obj=join id=806d11ba5e63 l=127.0.0.1:51000 r=68.199.56.76:53781\n",
            "t=2025-05-12T21:36:05+0000 lvl=info msg=\"join connections\" obj=join id=97b49d1d930d l=127.0.0.1:51000 r=68.199.56.76:53782\n",
            "t=2025-05-12T21:36:06+0000 lvl=info msg=\"join connections\" obj=join id=b9724077a595 l=127.0.0.1:51000 r=68.199.56.76:53783\n",
            "t=2025-05-12T21:36:06+0000 lvl=info msg=\"join connections\" obj=join id=3f399fadb2d4 l=127.0.0.1:51000 r=68.199.56.76:53784\n",
            "t=2025-05-12T21:36:07+0000 lvl=info msg=\"join connections\" obj=join id=a2f693c11c8d l=127.0.0.1:51000 r=68.199.56.76:53785\n",
            "t=2025-05-12T21:36:07+0000 lvl=info msg=\"join connections\" obj=join id=2ecf73ec121f l=127.0.0.1:51000 r=68.199.56.76:53786\n",
            "t=2025-05-12T21:36:08+0000 lvl=info msg=\"join connections\" obj=join id=0b4f8252fd31 l=127.0.0.1:51000 r=68.199.56.76:53788\n",
            "t=2025-05-12T21:36:08+0000 lvl=info msg=\"join connections\" obj=join id=0bdeb88790ce l=127.0.0.1:51000 r=68.199.56.76:53790\n",
            "t=2025-05-12T21:36:09+0000 lvl=info msg=\"join connections\" obj=join id=9937eec60e22 l=127.0.0.1:51000 r=68.199.56.76:53791\n",
            "t=2025-05-12T21:36:09+0000 lvl=info msg=\"join connections\" obj=join id=c3b29df35440 l=127.0.0.1:51000 r=68.199.56.76:53792\n",
            "t=2025-05-12T21:36:10+0000 lvl=info msg=\"join connections\" obj=join id=3ef09a8b8676 l=127.0.0.1:51000 r=68.199.56.76:53793\n",
            "t=2025-05-12T21:36:10+0000 lvl=info msg=\"join connections\" obj=join id=410702c8fd71 l=127.0.0.1:51000 r=68.199.56.76:53794\n",
            "t=2025-05-12T21:36:11+0000 lvl=info msg=\"join connections\" obj=join id=9f194a17af0b l=127.0.0.1:51000 r=68.199.56.76:53795\n",
            "t=2025-05-12T21:36:12+0000 lvl=info msg=\"join connections\" obj=join id=8795326f3c62 l=127.0.0.1:51000 r=68.199.56.76:53796\n",
            "t=2025-05-12T21:36:12+0000 lvl=info msg=\"join connections\" obj=join id=4851140f6214 l=127.0.0.1:51000 r=68.199.56.76:53797\n",
            "t=2025-05-12T21:36:13+0000 lvl=info msg=\"join connections\" obj=join id=b951bb09cd25 l=127.0.0.1:51000 r=68.199.56.76:53798\n",
            "t=2025-05-12T21:36:13+0000 lvl=info msg=\"join connections\" obj=join id=180dbfe528ad l=127.0.0.1:51000 r=68.199.56.76:53799\n",
            "t=2025-05-12T21:36:14+0000 lvl=info msg=\"join connections\" obj=join id=77f2d53b4607 l=127.0.0.1:51000 r=68.199.56.76:53800\n",
            "t=2025-05-12T21:36:14+0000 lvl=info msg=\"join connections\" obj=join id=ad0e704e5e20 l=127.0.0.1:51000 r=68.199.56.76:53801\n",
            "t=2025-05-12T21:36:15+0000 lvl=info msg=\"join connections\" obj=join id=b4e023bc1062 l=127.0.0.1:51000 r=68.199.56.76:53802\n",
            "t=2025-05-12T21:36:15+0000 lvl=info msg=\"join connections\" obj=join id=6897106c86f1 l=127.0.0.1:51000 r=68.199.56.76:53803\n",
            "t=2025-05-12T21:36:16+0000 lvl=info msg=\"join connections\" obj=join id=24c95839105c l=127.0.0.1:51000 r=68.199.56.76:53804\n",
            "t=2025-05-12T21:36:16+0000 lvl=info msg=\"join connections\" obj=join id=6561cc35d90a l=127.0.0.1:51000 r=68.199.56.76:53805\n",
            "t=2025-05-12T21:36:17+0000 lvl=info msg=\"join connections\" obj=join id=a2dd37c053d2 l=127.0.0.1:51000 r=68.199.56.76:53806\n",
            "t=2025-05-12T21:36:17+0000 lvl=info msg=\"join connections\" obj=join id=5454c8d18914 l=127.0.0.1:51000 r=68.199.56.76:53807\n",
            "t=2025-05-12T21:36:18+0000 lvl=info msg=\"join connections\" obj=join id=bc47dea08012 l=127.0.0.1:51000 r=68.199.56.76:53808\n",
            "t=2025-05-12T21:36:18+0000 lvl=info msg=\"join connections\" obj=join id=940f68056918 l=127.0.0.1:51000 r=68.199.56.76:53809\n",
            "t=2025-05-12T21:36:19+0000 lvl=info msg=\"join connections\" obj=join id=5791b8c6a4ed l=127.0.0.1:51000 r=68.199.56.76:53810\n",
            "t=2025-05-12T21:36:20+0000 lvl=info msg=\"join connections\" obj=join id=8872537b9f9b l=127.0.0.1:51000 r=68.199.56.76:53811\n",
            "t=2025-05-12T21:36:20+0000 lvl=info msg=\"join connections\" obj=join id=f178d600d5e2 l=127.0.0.1:51000 r=68.199.56.76:53812\n",
            "t=2025-05-12T21:36:21+0000 lvl=info msg=\"join connections\" obj=join id=de9ce2bf4d4a l=127.0.0.1:51000 r=68.199.56.76:53813\n",
            "t=2025-05-12T21:36:21+0000 lvl=info msg=\"join connections\" obj=join id=93b0c17b1e7f l=127.0.0.1:51000 r=68.199.56.76:53814\n",
            "t=2025-05-12T21:36:22+0000 lvl=info msg=\"join connections\" obj=join id=43bd0d526d75 l=127.0.0.1:51000 r=68.199.56.76:53815\n",
            "t=2025-05-12T21:36:22+0000 lvl=info msg=\"join connections\" obj=join id=cc4d22e54776 l=127.0.0.1:51000 r=68.199.56.76:53816\n",
            "t=2025-05-12T21:36:23+0000 lvl=info msg=\"join connections\" obj=join id=fe96b0f039a0 l=127.0.0.1:51000 r=68.199.56.76:53818\n",
            "t=2025-05-12T21:36:23+0000 lvl=info msg=\"join connections\" obj=join id=e9534fa80c61 l=127.0.0.1:51000 r=68.199.56.76:53820\n",
            "t=2025-05-12T21:36:24+0000 lvl=info msg=\"join connections\" obj=join id=d213cdad4047 l=127.0.0.1:51000 r=68.199.56.76:53821\n",
            "t=2025-05-12T21:36:24+0000 lvl=info msg=\"join connections\" obj=join id=8552a85cadda l=127.0.0.1:51000 r=68.199.56.76:53822\n",
            "t=2025-05-12T21:36:25+0000 lvl=info msg=\"join connections\" obj=join id=ff9d080dee0e l=127.0.0.1:51000 r=68.199.56.76:53823\n",
            "t=2025-05-12T21:36:26+0000 lvl=info msg=\"join connections\" obj=join id=006e9dd940d9 l=127.0.0.1:51000 r=68.199.56.76:53824\n",
            "t=2025-05-12T21:36:26+0000 lvl=info msg=\"join connections\" obj=join id=8e30e62bd2bd l=127.0.0.1:51000 r=68.199.56.76:53825\n",
            "t=2025-05-12T21:36:27+0000 lvl=info msg=\"join connections\" obj=join id=98f1b4a8c49a l=127.0.0.1:51000 r=68.199.56.76:53826\n",
            "t=2025-05-12T21:36:27+0000 lvl=info msg=\"join connections\" obj=join id=e3c5334d0513 l=127.0.0.1:51000 r=68.199.56.76:53827\n",
            "t=2025-05-12T21:36:28+0000 lvl=info msg=\"join connections\" obj=join id=6e692cdf3ba5 l=127.0.0.1:51000 r=68.199.56.76:53828\n",
            "t=2025-05-12T21:36:28+0000 lvl=info msg=\"join connections\" obj=join id=4c146071cb37 l=127.0.0.1:51000 r=68.199.56.76:53829\n",
            "t=2025-05-12T21:36:29+0000 lvl=info msg=\"join connections\" obj=join id=dc62f5de2558 l=127.0.0.1:51000 r=68.199.56.76:53830\n",
            "t=2025-05-12T21:36:29+0000 lvl=info msg=\"join connections\" obj=join id=8f3e44a06771 l=127.0.0.1:51000 r=68.199.56.76:53831\n",
            "t=2025-05-12T21:36:30+0000 lvl=info msg=\"join connections\" obj=join id=c5caee35b07c l=127.0.0.1:51000 r=68.199.56.76:53832\n",
            "t=2025-05-12T21:36:30+0000 lvl=info msg=\"join connections\" obj=join id=83d45ca88d2b l=127.0.0.1:51000 r=68.199.56.76:53833\n",
            "t=2025-05-12T21:36:31+0000 lvl=info msg=\"join connections\" obj=join id=b3c6aae7656f l=127.0.0.1:51000 r=68.199.56.76:53834\n",
            "t=2025-05-12T21:36:31+0000 lvl=info msg=\"join connections\" obj=join id=a9402011235b l=127.0.0.1:51000 r=68.199.56.76:53835\n",
            "t=2025-05-12T21:36:32+0000 lvl=info msg=\"join connections\" obj=join id=58146e44f3e7 l=127.0.0.1:51000 r=68.199.56.76:53836\n",
            "t=2025-05-12T21:36:32+0000 lvl=info msg=\"join connections\" obj=join id=b6bbb8f4ecd3 l=127.0.0.1:51000 r=68.199.56.76:53837\n",
            "t=2025-05-12T21:36:33+0000 lvl=info msg=\"join connections\" obj=join id=3ba3079f9499 l=127.0.0.1:51000 r=68.199.56.76:53838\n",
            "t=2025-05-12T21:36:34+0000 lvl=info msg=\"join connections\" obj=join id=5fb26e7ea4db l=127.0.0.1:51000 r=68.199.56.76:53839\n",
            "t=2025-05-12T21:36:34+0000 lvl=info msg=\"join connections\" obj=join id=eb6c0edb02f5 l=127.0.0.1:51000 r=68.199.56.76:53840\n",
            "t=2025-05-12T21:36:35+0000 lvl=info msg=\"join connections\" obj=join id=a61667e4b9fd l=127.0.0.1:51000 r=68.199.56.76:53841\n",
            "t=2025-05-12T21:36:35+0000 lvl=info msg=\"join connections\" obj=join id=1222b3070205 l=127.0.0.1:51000 r=68.199.56.76:53842\n",
            "t=2025-05-12T21:36:36+0000 lvl=info msg=\"join connections\" obj=join id=445874eaa54f l=127.0.0.1:51000 r=68.199.56.76:53843\n",
            "t=2025-05-12T21:36:36+0000 lvl=info msg=\"join connections\" obj=join id=b48fa7e4d226 l=127.0.0.1:51000 r=68.199.56.76:53844\n",
            "t=2025-05-12T21:36:37+0000 lvl=info msg=\"join connections\" obj=join id=b15945fbb998 l=127.0.0.1:51000 r=68.199.56.76:53845\n",
            "t=2025-05-12T21:36:37+0000 lvl=info msg=\"join connections\" obj=join id=9d8e49329c32 l=127.0.0.1:51000 r=68.199.56.76:53846\n",
            "t=2025-05-12T21:36:38+0000 lvl=info msg=\"join connections\" obj=join id=04404a7a1e84 l=127.0.0.1:51000 r=68.199.56.76:53847\n",
            "t=2025-05-12T21:36:39+0000 lvl=info msg=\"join connections\" obj=join id=50b6810b4fb4 l=127.0.0.1:51000 r=68.199.56.76:53848\n",
            "t=2025-05-12T21:36:39+0000 lvl=info msg=\"join connections\" obj=join id=ae4938991992 l=127.0.0.1:51000 r=68.199.56.76:53849\n",
            "t=2025-05-12T21:36:40+0000 lvl=info msg=\"join connections\" obj=join id=c5c8f8b5bb0a l=127.0.0.1:51000 r=68.199.56.76:53850\n",
            "t=2025-05-12T21:36:40+0000 lvl=info msg=\"join connections\" obj=join id=3f8fd4e2da96 l=127.0.0.1:51000 r=68.199.56.76:53851\n",
            "t=2025-05-12T21:36:41+0000 lvl=info msg=\"join connections\" obj=join id=e9f17cad2f61 l=127.0.0.1:51000 r=68.199.56.76:53852\n",
            "t=2025-05-12T21:36:41+0000 lvl=info msg=\"join connections\" obj=join id=2e5a015c9d72 l=127.0.0.1:51000 r=68.199.56.76:53853\n",
            "t=2025-05-12T21:36:42+0000 lvl=info msg=\"join connections\" obj=join id=71eb7a5fd0d2 l=127.0.0.1:51000 r=68.199.56.76:53854\n",
            "t=2025-05-12T21:36:42+0000 lvl=info msg=\"join connections\" obj=join id=62989baea704 l=127.0.0.1:51000 r=68.199.56.76:53855\n",
            "t=2025-05-12T21:36:43+0000 lvl=info msg=\"join connections\" obj=join id=1d05f883ebeb l=127.0.0.1:51000 r=68.199.56.76:53856\n",
            "t=2025-05-12T21:36:43+0000 lvl=info msg=\"join connections\" obj=join id=037599b68b6e l=127.0.0.1:51000 r=68.199.56.76:53857\n",
            "t=2025-05-12T21:36:44+0000 lvl=info msg=\"join connections\" obj=join id=676d6f717838 l=127.0.0.1:51000 r=68.199.56.76:53858\n",
            "t=2025-05-12T21:36:44+0000 lvl=info msg=\"join connections\" obj=join id=ba2386d90184 l=127.0.0.1:51000 r=68.199.56.76:53859\n",
            "t=2025-05-12T21:36:45+0000 lvl=info msg=\"join connections\" obj=join id=391638b209a6 l=127.0.0.1:51000 r=68.199.56.76:53860\n",
            "t=2025-05-12T21:36:45+0000 lvl=info msg=\"join connections\" obj=join id=2ce146cdbc2e l=127.0.0.1:51000 r=68.199.56.76:53861\n",
            "t=2025-05-12T21:36:46+0000 lvl=info msg=\"join connections\" obj=join id=aa6370ec5dbd l=127.0.0.1:51000 r=68.199.56.76:53862\n",
            "t=2025-05-12T21:36:46+0000 lvl=info msg=\"join connections\" obj=join id=88e5484d09f3 l=127.0.0.1:51000 r=68.199.56.76:53863\n",
            "t=2025-05-12T21:36:47+0000 lvl=info msg=\"join connections\" obj=join id=838647ed4654 l=127.0.0.1:51000 r=68.199.56.76:53864\n",
            "t=2025-05-12T21:36:48+0000 lvl=info msg=\"join connections\" obj=join id=567e82b74b7f l=127.0.0.1:51000 r=68.199.56.76:53865\n",
            "t=2025-05-12T21:36:48+0000 lvl=info msg=\"join connections\" obj=join id=5315b0478777 l=127.0.0.1:51000 r=68.199.56.76:53866\n",
            "t=2025-05-12T21:36:49+0000 lvl=info msg=\"join connections\" obj=join id=26c92b565b30 l=127.0.0.1:51000 r=68.199.56.76:53867\n",
            "t=2025-05-12T21:36:49+0000 lvl=info msg=\"join connections\" obj=join id=847be067e2be l=127.0.0.1:51000 r=68.199.56.76:53868\n",
            "t=2025-05-12T21:36:50+0000 lvl=info msg=\"join connections\" obj=join id=93eccbf8470b l=127.0.0.1:51000 r=68.199.56.76:53869\n",
            "t=2025-05-12T21:36:50+0000 lvl=info msg=\"join connections\" obj=join id=39be3a0f8074 l=127.0.0.1:51000 r=68.199.56.76:53870\n",
            "t=2025-05-12T21:36:51+0000 lvl=info msg=\"join connections\" obj=join id=214d6a8e530b l=127.0.0.1:51000 r=68.199.56.76:53871\n",
            "t=2025-05-12T21:36:52+0000 lvl=info msg=\"join connections\" obj=join id=f2cc2f4dbee3 l=127.0.0.1:51000 r=68.199.56.76:53872\n",
            "t=2025-05-12T21:36:52+0000 lvl=info msg=\"join connections\" obj=join id=eb18b251e094 l=127.0.0.1:51000 r=68.199.56.76:53873\n",
            "t=2025-05-12T21:36:53+0000 lvl=info msg=\"join connections\" obj=join id=17aa5426e031 l=127.0.0.1:51000 r=68.199.56.76:53874\n",
            "t=2025-05-12T21:36:53+0000 lvl=info msg=\"join connections\" obj=join id=2fa42281074b l=127.0.0.1:51000 r=68.199.56.76:53875\n",
            "t=2025-05-12T21:36:54+0000 lvl=info msg=\"join connections\" obj=join id=da4aa1bdc162 l=127.0.0.1:51000 r=68.199.56.76:53876\n",
            "t=2025-05-12T21:36:54+0000 lvl=info msg=\"join connections\" obj=join id=28e4189cec0d l=127.0.0.1:51000 r=68.199.56.76:53877\n",
            "t=2025-05-12T21:36:55+0000 lvl=info msg=\"join connections\" obj=join id=73b256f3fc92 l=127.0.0.1:51000 r=68.199.56.76:53878\n",
            "t=2025-05-12T21:36:55+0000 lvl=info msg=\"join connections\" obj=join id=6072860e6f26 l=127.0.0.1:51000 r=68.199.56.76:53879\n",
            "t=2025-05-12T21:36:56+0000 lvl=info msg=\"join connections\" obj=join id=9afdf5bdbd06 l=127.0.0.1:51000 r=68.199.56.76:53880\n",
            "t=2025-05-12T21:36:56+0000 lvl=info msg=\"join connections\" obj=join id=7b163bfa3d19 l=127.0.0.1:51000 r=68.199.56.76:53881\n",
            "t=2025-05-12T21:36:57+0000 lvl=info msg=\"join connections\" obj=join id=dfca3bd6bfcd l=127.0.0.1:51000 r=68.199.56.76:53882\n",
            "t=2025-05-12T21:36:57+0000 lvl=info msg=\"join connections\" obj=join id=ba9a2fd1cacf l=127.0.0.1:51000 r=68.199.56.76:53883\n",
            "t=2025-05-12T21:36:58+0000 lvl=info msg=\"join connections\" obj=join id=c8c6cf73d93e l=127.0.0.1:51000 r=68.199.56.76:53884\n",
            "t=2025-05-12T21:36:58+0000 lvl=info msg=\"join connections\" obj=join id=50d07605b802 l=127.0.0.1:51000 r=68.199.56.76:53885\n",
            "t=2025-05-12T21:36:59+0000 lvl=info msg=\"join connections\" obj=join id=74aebb11e506 l=127.0.0.1:51000 r=68.199.56.76:53886\n",
            "t=2025-05-12T21:37:00+0000 lvl=info msg=\"join connections\" obj=join id=45dc7db2a0c8 l=127.0.0.1:51000 r=68.199.56.76:53887\n",
            "t=2025-05-12T21:37:00+0000 lvl=info msg=\"join connections\" obj=join id=32b047e222e9 l=127.0.0.1:51000 r=68.199.56.76:53888\n",
            "t=2025-05-12T21:37:01+0000 lvl=info msg=\"join connections\" obj=join id=d0f9273c3ad6 l=127.0.0.1:51000 r=68.199.56.76:53889\n",
            "t=2025-05-12T21:37:01+0000 lvl=info msg=\"join connections\" obj=join id=5443fa37ab99 l=127.0.0.1:51000 r=68.199.56.76:53890\n",
            "t=2025-05-12T21:37:02+0000 lvl=info msg=\"join connections\" obj=join id=80269174c0ae l=127.0.0.1:51000 r=68.199.56.76:53891\n",
            "t=2025-05-12T21:37:02+0000 lvl=info msg=\"join connections\" obj=join id=b46125f5ff36 l=127.0.0.1:51000 r=68.199.56.76:53892\n",
            "t=2025-05-12T21:37:03+0000 lvl=info msg=\"join connections\" obj=join id=76d88ce43a6a l=127.0.0.1:51000 r=68.199.56.76:53893\n",
            "t=2025-05-12T21:37:03+0000 lvl=info msg=\"join connections\" obj=join id=c340931ab390 l=127.0.0.1:51000 r=68.199.56.76:53894\n",
            "t=2025-05-12T21:37:04+0000 lvl=info msg=\"join connections\" obj=join id=46dffb3174a2 l=127.0.0.1:51000 r=68.199.56.76:53895\n",
            "t=2025-05-12T21:37:04+0000 lvl=info msg=\"join connections\" obj=join id=efdfb2a43fa5 l=127.0.0.1:51000 r=68.199.56.76:53896\n",
            "t=2025-05-12T21:37:05+0000 lvl=info msg=\"join connections\" obj=join id=05338c96ccfa l=127.0.0.1:51000 r=68.199.56.76:53897\n",
            "t=2025-05-12T21:37:05+0000 lvl=info msg=\"join connections\" obj=join id=f288f91d5a60 l=127.0.0.1:51000 r=68.199.56.76:53898\n",
            "t=2025-05-12T21:37:06+0000 lvl=info msg=\"join connections\" obj=join id=17c7bc997a4c l=127.0.0.1:51000 r=68.199.56.76:53899\n",
            "t=2025-05-12T21:37:07+0000 lvl=info msg=\"join connections\" obj=join id=d2403453d4b8 l=127.0.0.1:51000 r=68.199.56.76:53900\n",
            "t=2025-05-12T21:37:07+0000 lvl=info msg=\"join connections\" obj=join id=5375bcf84bcc l=127.0.0.1:51000 r=68.199.56.76:53901\n",
            "t=2025-05-12T21:37:08+0000 lvl=info msg=\"join connections\" obj=join id=e1517f0a72fd l=127.0.0.1:51000 r=68.199.56.76:53902\n",
            "t=2025-05-12T21:37:08+0000 lvl=info msg=\"join connections\" obj=join id=e1ee62d0bb15 l=127.0.0.1:51000 r=68.199.56.76:53904\n",
            "t=2025-05-12T21:37:09+0000 lvl=info msg=\"join connections\" obj=join id=6aec127753ed l=127.0.0.1:51000 r=68.199.56.76:53906\n",
            "t=2025-05-12T21:37:09+0000 lvl=info msg=\"join connections\" obj=join id=c49247fb8a2f l=127.0.0.1:51000 r=68.199.56.76:53907\n",
            "t=2025-05-12T21:37:10+0000 lvl=info msg=\"join connections\" obj=join id=6153e1469e82 l=127.0.0.1:51000 r=68.199.56.76:53908\n",
            "t=2025-05-12T21:37:10+0000 lvl=info msg=\"join connections\" obj=join id=6404e8b450cf l=127.0.0.1:51000 r=68.199.56.76:53909\n",
            "t=2025-05-12T21:37:11+0000 lvl=info msg=\"join connections\" obj=join id=dc6ebca4f2db l=127.0.0.1:51000 r=68.199.56.76:53910\n",
            "t=2025-05-12T21:37:11+0000 lvl=info msg=\"join connections\" obj=join id=5dc824cc36bf l=127.0.0.1:51000 r=68.199.56.76:53911\n",
            "t=2025-05-12T21:37:12+0000 lvl=info msg=\"join connections\" obj=join id=8984ebe56b68 l=127.0.0.1:51000 r=68.199.56.76:53912\n",
            "t=2025-05-12T21:37:12+0000 lvl=info msg=\"join connections\" obj=join id=be0e5ae8f43e l=127.0.0.1:51000 r=68.199.56.76:53913\n",
            "t=2025-05-12T21:37:13+0000 lvl=info msg=\"join connections\" obj=join id=174332420a12 l=127.0.0.1:51000 r=68.199.56.76:53914\n",
            "t=2025-05-12T21:37:14+0000 lvl=info msg=\"join connections\" obj=join id=d2b377250ce3 l=127.0.0.1:51000 r=68.199.56.76:53915\n",
            "t=2025-05-12T21:37:14+0000 lvl=info msg=\"join connections\" obj=join id=29061e2ea051 l=127.0.0.1:51000 r=68.199.56.76:53916\n",
            "t=2025-05-12T21:37:15+0000 lvl=info msg=\"join connections\" obj=join id=2ade416e7363 l=127.0.0.1:51000 r=68.199.56.76:53917\n",
            "t=2025-05-12T21:37:15+0000 lvl=info msg=\"join connections\" obj=join id=541af0062133 l=127.0.0.1:51000 r=68.199.56.76:53918\n",
            "t=2025-05-12T21:37:16+0000 lvl=info msg=\"join connections\" obj=join id=4a70674367e7 l=127.0.0.1:51000 r=68.199.56.76:53919\n",
            "t=2025-05-12T21:37:16+0000 lvl=info msg=\"join connections\" obj=join id=fa6122f76bd3 l=127.0.0.1:51000 r=68.199.56.76:53920\n",
            "t=2025-05-12T21:37:17+0000 lvl=info msg=\"join connections\" obj=join id=4fbc41d0f96e l=127.0.0.1:51000 r=68.199.56.76:53921\n",
            "t=2025-05-12T21:37:17+0000 lvl=info msg=\"join connections\" obj=join id=f85f123e7d0d l=127.0.0.1:51000 r=68.199.56.76:53922\n",
            "t=2025-05-12T21:37:18+0000 lvl=info msg=\"join connections\" obj=join id=b39f9b5c32eb l=127.0.0.1:51000 r=68.199.56.76:53923\n",
            "t=2025-05-12T21:37:18+0000 lvl=info msg=\"join connections\" obj=join id=990a1ee6530a l=127.0.0.1:51000 r=68.199.56.76:53924\n",
            "t=2025-05-12T21:37:19+0000 lvl=info msg=\"join connections\" obj=join id=6f18414dee41 l=127.0.0.1:51000 r=68.199.56.76:53925\n",
            "t=2025-05-12T21:37:19+0000 lvl=info msg=\"join connections\" obj=join id=1c3e7aadcadf l=127.0.0.1:51000 r=68.199.56.76:53926\n",
            "t=2025-05-12T21:37:20+0000 lvl=info msg=\"join connections\" obj=join id=c39484eba70b l=127.0.0.1:51000 r=68.199.56.76:53927\n",
            "t=2025-05-12T21:37:20+0000 lvl=info msg=\"join connections\" obj=join id=3ed119c07e90 l=127.0.0.1:51000 r=68.199.56.76:53928\n",
            "t=2025-05-12T21:37:21+0000 lvl=info msg=\"join connections\" obj=join id=38fece7ae47a l=127.0.0.1:51000 r=68.199.56.76:53929\n",
            "t=2025-05-12T21:37:22+0000 lvl=info msg=\"join connections\" obj=join id=45d27df26267 l=127.0.0.1:51000 r=68.199.56.76:53930\n",
            "t=2025-05-12T21:37:22+0000 lvl=info msg=\"join connections\" obj=join id=6f2e9b0283f3 l=127.0.0.1:51000 r=68.199.56.76:53931\n",
            "t=2025-05-12T21:37:23+0000 lvl=info msg=\"join connections\" obj=join id=5ea658326f4a l=127.0.0.1:51000 r=68.199.56.76:53932\n",
            "t=2025-05-12T21:37:23+0000 lvl=info msg=\"join connections\" obj=join id=d06a542e7a55 l=127.0.0.1:51000 r=68.199.56.76:53933\n",
            "t=2025-05-12T21:37:24+0000 lvl=info msg=\"join connections\" obj=join id=c47005a5aa4b l=127.0.0.1:51000 r=68.199.56.76:53934\n",
            "t=2025-05-12T21:37:24+0000 lvl=info msg=\"join connections\" obj=join id=610320db7e61 l=127.0.0.1:51000 r=68.199.56.76:53935\n",
            "t=2025-05-12T21:37:25+0000 lvl=info msg=\"join connections\" obj=join id=74cb5ba247ec l=127.0.0.1:51000 r=68.199.56.76:53936\n",
            "t=2025-05-12T21:37:25+0000 lvl=info msg=\"join connections\" obj=join id=35213414f881 l=127.0.0.1:51000 r=68.199.56.76:53937\n",
            "t=2025-05-12T21:37:26+0000 lvl=info msg=\"join connections\" obj=join id=82c6b9cd272b l=127.0.0.1:51000 r=68.199.56.76:53938\n",
            "t=2025-05-12T21:37:26+0000 lvl=info msg=\"join connections\" obj=join id=4a3a6c989a0a l=127.0.0.1:51000 r=68.199.56.76:53939\n",
            "t=2025-05-12T21:37:27+0000 lvl=info msg=\"join connections\" obj=join id=dfe0e9917d0a l=127.0.0.1:51000 r=68.199.56.76:53940\n",
            "t=2025-05-12T21:37:27+0000 lvl=info msg=\"join connections\" obj=join id=1ac45c7acf4d l=127.0.0.1:51000 r=68.199.56.76:53941\n",
            "t=2025-05-12T21:37:28+0000 lvl=info msg=\"join connections\" obj=join id=bf5a4bc50eb7 l=127.0.0.1:51000 r=68.199.56.76:53942\n",
            "t=2025-05-12T21:37:29+0000 lvl=info msg=\"join connections\" obj=join id=e13c43615e65 l=127.0.0.1:51000 r=68.199.56.76:53943\n",
            "t=2025-05-12T21:37:29+0000 lvl=info msg=\"join connections\" obj=join id=16dbe77a54f6 l=127.0.0.1:51000 r=68.199.56.76:53944\n",
            "t=2025-05-12T21:37:30+0000 lvl=info msg=\"join connections\" obj=join id=8d674015495b l=127.0.0.1:51000 r=68.199.56.76:53945\n",
            "t=2025-05-12T21:37:30+0000 lvl=info msg=\"join connections\" obj=join id=d4d74687df4b l=127.0.0.1:51000 r=68.199.56.76:53946\n",
            "t=2025-05-12T21:37:31+0000 lvl=info msg=\"join connections\" obj=join id=3a6374d8db27 l=127.0.0.1:51000 r=68.199.56.76:53947\n",
            "t=2025-05-12T21:37:31+0000 lvl=info msg=\"join connections\" obj=join id=ac85f662464b l=127.0.0.1:51000 r=68.199.56.76:53948\n",
            "t=2025-05-12T21:37:32+0000 lvl=info msg=\"join connections\" obj=join id=fffc00899a4b l=127.0.0.1:51000 r=68.199.56.76:53949\n",
            "t=2025-05-12T21:37:32+0000 lvl=info msg=\"join connections\" obj=join id=00e015b9195f l=127.0.0.1:51000 r=68.199.56.76:53950\n",
            "t=2025-05-12T21:37:33+0000 lvl=info msg=\"join connections\" obj=join id=454f22b40f48 l=127.0.0.1:51000 r=68.199.56.76:53952\n",
            "t=2025-05-12T21:37:33+0000 lvl=info msg=\"join connections\" obj=join id=25da68cb65eb l=127.0.0.1:51000 r=68.199.56.76:53953\n",
            "t=2025-05-12T21:37:34+0000 lvl=info msg=\"join connections\" obj=join id=6270484f3e60 l=127.0.0.1:51000 r=68.199.56.76:53954\n",
            "t=2025-05-12T21:37:34+0000 lvl=info msg=\"join connections\" obj=join id=5bc8c525a305 l=127.0.0.1:51000 r=68.199.56.76:53955\n",
            "t=2025-05-12T21:37:35+0000 lvl=info msg=\"join connections\" obj=join id=e9ea6b636859 l=127.0.0.1:51000 r=68.199.56.76:53956\n",
            "t=2025-05-12T21:37:35+0000 lvl=info msg=\"join connections\" obj=join id=d00777c70a97 l=127.0.0.1:51000 r=68.199.56.76:53957\n",
            "t=2025-05-12T21:37:36+0000 lvl=info msg=\"join connections\" obj=join id=6e0b59c368eb l=127.0.0.1:51000 r=68.199.56.76:53958\n",
            "t=2025-05-12T21:37:36+0000 lvl=info msg=\"join connections\" obj=join id=1cf89d312f1d l=127.0.0.1:51000 r=68.199.56.76:53959\n",
            "t=2025-05-12T21:37:37+0000 lvl=info msg=\"join connections\" obj=join id=eb33576ff6c5 l=127.0.0.1:51000 r=68.199.56.76:53960\n",
            "t=2025-05-12T21:37:38+0000 lvl=info msg=\"join connections\" obj=join id=ae74e7b2322f l=127.0.0.1:51000 r=68.199.56.76:53961\n",
            "t=2025-05-12T21:37:38+0000 lvl=info msg=\"join connections\" obj=join id=87ce91e7a8d1 l=127.0.0.1:51000 r=68.199.56.76:53962\n",
            "t=2025-05-12T21:37:39+0000 lvl=info msg=\"join connections\" obj=join id=4f81da074883 l=127.0.0.1:51000 r=68.199.56.76:53963\n",
            "t=2025-05-12T21:37:39+0000 lvl=info msg=\"join connections\" obj=join id=7503258a8de5 l=127.0.0.1:51000 r=68.199.56.76:53964\n",
            "t=2025-05-12T21:37:40+0000 lvl=info msg=\"join connections\" obj=join id=a241e342a958 l=127.0.0.1:51000 r=68.199.56.76:53965\n",
            "t=2025-05-12T21:37:40+0000 lvl=info msg=\"join connections\" obj=join id=7ab76365d806 l=127.0.0.1:51000 r=68.199.56.76:53966\n",
            "t=2025-05-12T21:37:41+0000 lvl=info msg=\"join connections\" obj=join id=8dc9a6b89d10 l=127.0.0.1:51000 r=68.199.56.76:53967\n",
            "t=2025-05-12T21:37:41+0000 lvl=info msg=\"join connections\" obj=join id=907a244d5618 l=127.0.0.1:51000 r=68.199.56.76:53968\n",
            "t=2025-05-12T21:37:42+0000 lvl=info msg=\"join connections\" obj=join id=3abeff0da40f l=127.0.0.1:51000 r=68.199.56.76:53969\n",
            "t=2025-05-12T21:37:43+0000 lvl=info msg=\"join connections\" obj=join id=57adc1ea22ce l=127.0.0.1:51000 r=68.199.56.76:53970\n",
            "t=2025-05-12T21:37:43+0000 lvl=info msg=\"join connections\" obj=join id=60fc574167a7 l=127.0.0.1:51000 r=68.199.56.76:53971\n",
            "t=2025-05-12T21:37:44+0000 lvl=info msg=\"join connections\" obj=join id=8a9cab412758 l=127.0.0.1:51000 r=68.199.56.76:53972\n",
            "t=2025-05-12T21:37:44+0000 lvl=info msg=\"join connections\" obj=join id=33ef383934fa l=127.0.0.1:51000 r=68.199.56.76:53973\n",
            "t=2025-05-12T21:37:45+0000 lvl=info msg=\"join connections\" obj=join id=b40955d3b89f l=127.0.0.1:51000 r=68.199.56.76:53974\n",
            "t=2025-05-12T21:37:45+0000 lvl=info msg=\"join connections\" obj=join id=2d4a14395c54 l=127.0.0.1:51000 r=68.199.56.76:53975\n",
            "t=2025-05-12T21:37:46+0000 lvl=info msg=\"join connections\" obj=join id=38ad2c529bc4 l=127.0.0.1:51000 r=68.199.56.76:53976\n",
            "t=2025-05-12T21:37:46+0000 lvl=info msg=\"join connections\" obj=join id=62657e5971d0 l=127.0.0.1:51000 r=68.199.56.76:53977\n",
            "t=2025-05-12T21:37:47+0000 lvl=info msg=\"join connections\" obj=join id=efe0297cacd7 l=127.0.0.1:51000 r=68.199.56.76:53978\n",
            "t=2025-05-12T21:37:47+0000 lvl=info msg=\"join connections\" obj=join id=53412a6b565c l=127.0.0.1:51000 r=68.199.56.76:53979\n",
            "t=2025-05-12T21:37:48+0000 lvl=info msg=\"join connections\" obj=join id=ced22cec5479 l=127.0.0.1:51000 r=68.199.56.76:53980\n",
            "t=2025-05-12T21:37:48+0000 lvl=info msg=\"join connections\" obj=join id=077ec079ac7f l=127.0.0.1:51000 r=68.199.56.76:53981\n",
            "t=2025-05-12T21:37:49+0000 lvl=info msg=\"join connections\" obj=join id=e2213a7b6401 l=127.0.0.1:51000 r=68.199.56.76:53982\n",
            "t=2025-05-12T21:37:49+0000 lvl=info msg=\"join connections\" obj=join id=ab6e4701826c l=127.0.0.1:51000 r=68.199.56.76:53983\n",
            "t=2025-05-12T21:37:50+0000 lvl=info msg=\"join connections\" obj=join id=676d48574d1f l=127.0.0.1:51000 r=68.199.56.76:53984\n",
            "t=2025-05-12T21:37:51+0000 lvl=info msg=\"join connections\" obj=join id=c4791757e7bf l=127.0.0.1:51000 r=68.199.56.76:53985\n",
            "t=2025-05-12T21:37:51+0000 lvl=info msg=\"join connections\" obj=join id=b1bf1840a9cb l=127.0.0.1:51000 r=68.199.56.76:53986\n",
            "t=2025-05-12T21:37:52+0000 lvl=info msg=\"join connections\" obj=join id=16fb3e690535 l=127.0.0.1:51000 r=68.199.56.76:53987\n",
            "t=2025-05-12T21:37:52+0000 lvl=info msg=\"join connections\" obj=join id=d9e91b56c020 l=127.0.0.1:51000 r=68.199.56.76:53988\n",
            "t=2025-05-12T21:37:53+0000 lvl=info msg=\"join connections\" obj=join id=d7dc4815b3a6 l=127.0.0.1:51000 r=68.199.56.76:53989\n",
            "t=2025-05-12T21:37:53+0000 lvl=info msg=\"join connections\" obj=join id=1d6daae03155 l=127.0.0.1:51000 r=68.199.56.76:53990\n",
            "t=2025-05-12T21:37:54+0000 lvl=info msg=\"join connections\" obj=join id=b28a6d64d06b l=127.0.0.1:51000 r=68.199.56.76:53991\n",
            "t=2025-05-12T21:37:54+0000 lvl=info msg=\"join connections\" obj=join id=3686e6ac86fd l=127.0.0.1:51000 r=68.199.56.76:53992\n",
            "t=2025-05-12T21:37:55+0000 lvl=info msg=\"join connections\" obj=join id=d74f9f9b101c l=127.0.0.1:51000 r=68.199.56.76:53993\n",
            "t=2025-05-12T21:37:55+0000 lvl=info msg=\"join connections\" obj=join id=ad0bfa59beaf l=127.0.0.1:51000 r=68.199.56.76:53994\n",
            "t=2025-05-12T21:37:56+0000 lvl=info msg=\"join connections\" obj=join id=9b468e0b855a l=127.0.0.1:51000 r=68.199.56.76:53995\n",
            "t=2025-05-12T21:37:56+0000 lvl=info msg=\"join connections\" obj=join id=c686478f6b86 l=127.0.0.1:51000 r=68.199.56.76:53996\n",
            "t=2025-05-12T21:37:57+0000 lvl=info msg=\"join connections\" obj=join id=35824484d245 l=127.0.0.1:51000 r=68.199.56.76:53997\n",
            "t=2025-05-12T21:37:57+0000 lvl=info msg=\"join connections\" obj=join id=46260adee856 l=127.0.0.1:51000 r=68.199.56.76:53998\n",
            "t=2025-05-12T21:37:58+0000 lvl=info msg=\"join connections\" obj=join id=8805282a150d l=127.0.0.1:51000 r=68.199.56.76:53999\n",
            "t=2025-05-12T21:37:59+0000 lvl=info msg=\"join connections\" obj=join id=df32d0ecf17c l=127.0.0.1:51000 r=68.199.56.76:54000\n",
            "t=2025-05-12T21:37:59+0000 lvl=info msg=\"join connections\" obj=join id=5e0a0b251937 l=127.0.0.1:51000 r=68.199.56.76:54001\n",
            "t=2025-05-12T21:38:00+0000 lvl=info msg=\"join connections\" obj=join id=98e0daced2d3 l=127.0.0.1:51000 r=68.199.56.76:54002\n",
            "t=2025-05-12T21:38:00+0000 lvl=info msg=\"join connections\" obj=join id=b6f2b7ab957d l=127.0.0.1:51000 r=68.199.56.76:54003\n",
            "t=2025-05-12T21:38:01+0000 lvl=info msg=\"join connections\" obj=join id=dfd1bf0d62ea l=127.0.0.1:51000 r=68.199.56.76:54004\n",
            "t=2025-05-12T21:38:01+0000 lvl=info msg=\"join connections\" obj=join id=1a31c14cf57b l=127.0.0.1:51000 r=68.199.56.76:54005\n",
            "t=2025-05-12T21:38:02+0000 lvl=info msg=\"join connections\" obj=join id=29a88288d174 l=127.0.0.1:51000 r=68.199.56.76:54006\n",
            "t=2025-05-12T21:38:02+0000 lvl=info msg=\"join connections\" obj=join id=ae5fb8641df0 l=127.0.0.1:51000 r=68.199.56.76:54007\n",
            "t=2025-05-12T21:38:03+0000 lvl=info msg=\"join connections\" obj=join id=199d2d9816d4 l=127.0.0.1:51000 r=68.199.56.76:54008\n",
            "t=2025-05-12T21:38:03+0000 lvl=info msg=\"join connections\" obj=join id=a46c0701bc89 l=127.0.0.1:51000 r=68.199.56.76:54009\n",
            "t=2025-05-12T21:38:04+0000 lvl=info msg=\"join connections\" obj=join id=e9bd7595902f l=127.0.0.1:51000 r=68.199.56.76:54010\n",
            "t=2025-05-12T21:38:04+0000 lvl=info msg=\"join connections\" obj=join id=9b96be516221 l=127.0.0.1:51000 r=68.199.56.76:54011\n",
            "t=2025-05-12T21:38:05+0000 lvl=info msg=\"join connections\" obj=join id=74c02b24fa71 l=127.0.0.1:51000 r=68.199.56.76:54012\n",
            "t=2025-05-12T21:38:06+0000 lvl=info msg=\"join connections\" obj=join id=562ca1c60ca8 l=127.0.0.1:51000 r=68.199.56.76:54013\n",
            "t=2025-05-12T21:38:06+0000 lvl=info msg=\"join connections\" obj=join id=4793282d9f3e l=127.0.0.1:51000 r=68.199.56.76:54014\n",
            "t=2025-05-12T21:38:07+0000 lvl=info msg=\"join connections\" obj=join id=6a00dfb7eea6 l=127.0.0.1:51000 r=68.199.56.76:54015\n",
            "t=2025-05-12T21:38:07+0000 lvl=info msg=\"join connections\" obj=join id=9fb08e3e5270 l=127.0.0.1:51000 r=68.199.56.76:54016\n",
            "t=2025-05-12T21:38:08+0000 lvl=info msg=\"join connections\" obj=join id=1135410f22da l=127.0.0.1:51000 r=68.199.56.76:54017\n",
            "t=2025-05-12T21:38:08+0000 lvl=info msg=\"join connections\" obj=join id=6a9ea25a3ccf l=127.0.0.1:51000 r=68.199.56.76:54020\n",
            "t=2025-05-12T21:38:09+0000 lvl=info msg=\"join connections\" obj=join id=fe027fefb74d l=127.0.0.1:51000 r=68.199.56.76:54021\n",
            "t=2025-05-12T21:38:09+0000 lvl=info msg=\"join connections\" obj=join id=0f1f3a1641fe l=127.0.0.1:51000 r=68.199.56.76:54022\n",
            "t=2025-05-12T21:38:10+0000 lvl=info msg=\"join connections\" obj=join id=ca87c2435d70 l=127.0.0.1:51000 r=68.199.56.76:54023\n",
            "t=2025-05-12T21:38:10+0000 lvl=info msg=\"join connections\" obj=join id=b7c802bf251b l=127.0.0.1:51000 r=68.199.56.76:54024\n",
            "t=2025-05-12T21:38:11+0000 lvl=info msg=\"join connections\" obj=join id=05830abe7e88 l=127.0.0.1:51000 r=68.199.56.76:54025\n",
            "t=2025-05-12T21:38:11+0000 lvl=info msg=\"join connections\" obj=join id=0c1e944b706c l=127.0.0.1:51000 r=68.199.56.76:54026\n",
            "t=2025-05-12T21:38:12+0000 lvl=info msg=\"join connections\" obj=join id=533c83299004 l=127.0.0.1:51000 r=68.199.56.76:54027\n",
            "t=2025-05-12T21:38:12+0000 lvl=info msg=\"join connections\" obj=join id=c6e34e1a17cb l=127.0.0.1:51000 r=68.199.56.76:54028\n",
            "t=2025-05-12T21:38:13+0000 lvl=info msg=\"join connections\" obj=join id=fd9695df2143 l=127.0.0.1:51000 r=68.199.56.76:54029\n",
            "t=2025-05-12T21:38:13+0000 lvl=info msg=\"join connections\" obj=join id=c3d4e018edf6 l=127.0.0.1:51000 r=68.199.56.76:54030\n",
            "t=2025-05-12T21:38:14+0000 lvl=info msg=\"join connections\" obj=join id=dc1ef89cb348 l=127.0.0.1:51000 r=68.199.56.76:54031\n",
            "t=2025-05-12T21:38:15+0000 lvl=info msg=\"join connections\" obj=join id=5fe9e2a5b85a l=127.0.0.1:51000 r=68.199.56.76:54032\n",
            "t=2025-05-12T21:38:15+0000 lvl=info msg=\"join connections\" obj=join id=1b1d8c0758a5 l=127.0.0.1:51000 r=68.199.56.76:54033\n",
            "t=2025-05-12T21:38:16+0000 lvl=info msg=\"join connections\" obj=join id=0dd65f2be3cf l=127.0.0.1:51000 r=68.199.56.76:54034\n",
            "t=2025-05-12T21:38:16+0000 lvl=info msg=\"join connections\" obj=join id=f0ca258b1e09 l=127.0.0.1:51000 r=68.199.56.76:54035\n",
            "t=2025-05-12T21:38:17+0000 lvl=info msg=\"join connections\" obj=join id=823afde034e6 l=127.0.0.1:51000 r=68.199.56.76:54036\n",
            "t=2025-05-12T21:38:17+0000 lvl=info msg=\"join connections\" obj=join id=bf94153d1c85 l=127.0.0.1:51000 r=68.199.56.76:54037\n",
            "t=2025-05-12T21:38:18+0000 lvl=info msg=\"join connections\" obj=join id=ecb3580e37e0 l=127.0.0.1:51000 r=68.199.56.76:54038\n",
            "t=2025-05-12T21:38:18+0000 lvl=info msg=\"join connections\" obj=join id=2d9466475543 l=127.0.0.1:51000 r=68.199.56.76:54039\n",
            "t=2025-05-12T21:38:19+0000 lvl=info msg=\"join connections\" obj=join id=9d412465ab3f l=127.0.0.1:51000 r=68.199.56.76:54040\n",
            "t=2025-05-12T21:38:19+0000 lvl=info msg=\"join connections\" obj=join id=61a5063a9400 l=127.0.0.1:51000 r=68.199.56.76:54041\n",
            "t=2025-05-12T21:38:20+0000 lvl=info msg=\"join connections\" obj=join id=f2219a4e6fe7 l=127.0.0.1:51000 r=68.199.56.76:54042\n",
            "t=2025-05-12T21:38:20+0000 lvl=info msg=\"join connections\" obj=join id=5f38b43a7258 l=127.0.0.1:51000 r=68.199.56.76:54043\n",
            "t=2025-05-12T21:38:21+0000 lvl=info msg=\"join connections\" obj=join id=eb6b7c64c0a5 l=127.0.0.1:51000 r=68.199.56.76:54044\n",
            "t=2025-05-12T21:38:21+0000 lvl=info msg=\"join connections\" obj=join id=ac32afe93d7f l=127.0.0.1:51000 r=68.199.56.76:54045\n",
            "t=2025-05-12T21:38:22+0000 lvl=info msg=\"join connections\" obj=join id=553d4aa920a1 l=127.0.0.1:51000 r=68.199.56.76:54046\n",
            "t=2025-05-12T21:38:22+0000 lvl=info msg=\"join connections\" obj=join id=8c7844cb37c6 l=127.0.0.1:51000 r=68.199.56.76:54047\n",
            "t=2025-05-12T21:38:23+0000 lvl=info msg=\"join connections\" obj=join id=bd6c0c99d6a8 l=127.0.0.1:51000 r=68.199.56.76:54048\n",
            "t=2025-05-12T21:38:23+0000 lvl=info msg=\"join connections\" obj=join id=d7ab07999e59 l=127.0.0.1:51000 r=68.199.56.76:54049\n",
            "t=2025-05-12T21:38:24+0000 lvl=info msg=\"join connections\" obj=join id=6eb5e616b8cb l=127.0.0.1:51000 r=68.199.56.76:54050\n",
            "t=2025-05-12T21:38:24+0000 lvl=info msg=\"join connections\" obj=join id=1267a420ecdb l=127.0.0.1:51000 r=68.199.56.76:54051\n",
            "t=2025-05-12T21:38:25+0000 lvl=info msg=\"join connections\" obj=join id=09c4962498d0 l=127.0.0.1:51000 r=68.199.56.76:54052\n",
            "t=2025-05-12T21:38:26+0000 lvl=info msg=\"join connections\" obj=join id=bbae1b03af9d l=127.0.0.1:51000 r=68.199.56.76:54053\n",
            "t=2025-05-12T21:38:26+0000 lvl=info msg=\"join connections\" obj=join id=7945069825e5 l=127.0.0.1:51000 r=68.199.56.76:54054\n",
            "t=2025-05-12T21:38:27+0000 lvl=info msg=\"join connections\" obj=join id=dc6d39f0d1ea l=127.0.0.1:51000 r=68.199.56.76:54056\n",
            "t=2025-05-12T21:38:27+0000 lvl=info msg=\"join connections\" obj=join id=e7637fe74b71 l=127.0.0.1:51000 r=68.199.56.76:54057\n",
            "t=2025-05-12T21:38:28+0000 lvl=info msg=\"join connections\" obj=join id=f954f7594834 l=127.0.0.1:51000 r=68.199.56.76:54061\n",
            "t=2025-05-12T21:38:28+0000 lvl=info msg=\"join connections\" obj=join id=202e6c6a695a l=127.0.0.1:51000 r=68.199.56.76:54064\n",
            "t=2025-05-12T21:38:29+0000 lvl=info msg=\"join connections\" obj=join id=55b14e6d3778 l=127.0.0.1:51000 r=68.199.56.76:54068\n",
            "t=2025-05-12T21:38:29+0000 lvl=info msg=\"join connections\" obj=join id=abfcaaad5110 l=127.0.0.1:51000 r=68.199.56.76:54072\n",
            "t=2025-05-12T21:38:30+0000 lvl=info msg=\"join connections\" obj=join id=ae2ef63c1c32 l=127.0.0.1:51000 r=68.199.56.76:54075\n",
            "t=2025-05-12T21:38:30+0000 lvl=info msg=\"join connections\" obj=join id=baec52edceff l=127.0.0.1:51000 r=68.199.56.76:54076\n",
            "t=2025-05-12T21:38:31+0000 lvl=info msg=\"join connections\" obj=join id=31b7351d280e l=127.0.0.1:51000 r=68.199.56.76:54077\n",
            "t=2025-05-12T21:38:31+0000 lvl=info msg=\"join connections\" obj=join id=4bb9f4f681c9 l=127.0.0.1:51000 r=68.199.56.76:54078\n",
            "t=2025-05-12T21:38:32+0000 lvl=info msg=\"join connections\" obj=join id=cfceabd7e9f2 l=127.0.0.1:51000 r=68.199.56.76:54079\n",
            "t=2025-05-12T21:38:32+0000 lvl=info msg=\"join connections\" obj=join id=e004b94b74d8 l=127.0.0.1:51000 r=68.199.56.76:54080\n",
            "t=2025-05-12T21:38:33+0000 lvl=info msg=\"join connections\" obj=join id=768c37f5ca57 l=127.0.0.1:51000 r=68.199.56.76:54081\n",
            "t=2025-05-12T21:38:33+0000 lvl=info msg=\"join connections\" obj=join id=85bf11176aad l=127.0.0.1:51000 r=68.199.56.76:54082\n",
            "t=2025-05-12T21:38:34+0000 lvl=info msg=\"join connections\" obj=join id=1f92e4d0780c l=127.0.0.1:51000 r=68.199.56.76:54083\n",
            "t=2025-05-12T21:38:35+0000 lvl=info msg=\"join connections\" obj=join id=a136fca334f8 l=127.0.0.1:51000 r=68.199.56.76:54084\n",
            "t=2025-05-12T21:38:35+0000 lvl=info msg=\"join connections\" obj=join id=329c7e0a8b20 l=127.0.0.1:51000 r=68.199.56.76:54085\n",
            "t=2025-05-12T21:38:36+0000 lvl=info msg=\"join connections\" obj=join id=f409bb32da89 l=127.0.0.1:51000 r=68.199.56.76:54086\n",
            "t=2025-05-12T21:38:36+0000 lvl=info msg=\"join connections\" obj=join id=9eedaa5ee01e l=127.0.0.1:51000 r=68.199.56.76:54087\n",
            "t=2025-05-12T21:38:37+0000 lvl=info msg=\"join connections\" obj=join id=f8998cba8eaa l=127.0.0.1:51000 r=68.199.56.76:54088\n",
            "t=2025-05-12T21:38:37+0000 lvl=info msg=\"join connections\" obj=join id=fde72da19d20 l=127.0.0.1:51000 r=68.199.56.76:54089\n",
            "t=2025-05-12T21:38:38+0000 lvl=info msg=\"join connections\" obj=join id=05a51d7504cb l=127.0.0.1:51000 r=68.199.56.76:54090\n",
            "t=2025-05-12T21:38:38+0000 lvl=info msg=\"join connections\" obj=join id=4f10bf24977b l=127.0.0.1:51000 r=68.199.56.76:54091\n",
            "t=2025-05-12T21:38:39+0000 lvl=info msg=\"join connections\" obj=join id=651706287fd9 l=127.0.0.1:51000 r=68.199.56.76:54092\n",
            "t=2025-05-12T21:38:39+0000 lvl=info msg=\"join connections\" obj=join id=7b68da6edcb5 l=127.0.0.1:51000 r=68.199.56.76:54093\n",
            "t=2025-05-12T21:38:40+0000 lvl=info msg=\"join connections\" obj=join id=fbcf368bde49 l=127.0.0.1:51000 r=68.199.56.76:54094\n",
            "t=2025-05-12T21:38:40+0000 lvl=info msg=\"join connections\" obj=join id=042513f60fec l=127.0.0.1:51000 r=68.199.56.76:54095\n",
            "t=2025-05-12T21:38:41+0000 lvl=info msg=\"join connections\" obj=join id=730769054fef l=127.0.0.1:51000 r=68.199.56.76:54096\n"
          ]
        }
      ],
      "source": [
        "!ngrok tcp 51000 --log \"stdout\""
      ]
    },
    {
      "cell_type": "code",
      "execution_count": null,
      "metadata": {
        "id": "uDC7tZ4udSY0"
      },
      "outputs": [],
      "source": [
        "f.close()"
      ]
    },
    {
      "cell_type": "markdown",
      "metadata": {
        "id": "E-fllMyWbOZ9"
      },
      "source": []
    },
    {
      "cell_type": "markdown",
      "metadata": {
        "id": "Fzxt8j3Bz9Nu"
      },
      "source": [
        "At the last line, you should see something like:\n",
        "\n",
        "```\n",
        "t=2022-06-11T20:29:11+0000 lvl=info msg=\"started tunnel\" obj=tunnels name=command_line addr=//localhost:54321 url=tcp://6.tcp.ngrok.io:18096\n",
        "```\n",
        "\n",
        "Grab the text after `url=tcp://` in my case it is `6.tcp.ngrok.io:18096`.\n",
        "\n",
        "Now build a client using this address from your local laptop/Python environment.\n",
        "\n",
        "Copy paste the code below to your local Python, remmeber to change your address.\n",
        "\n",
        "**Remember, if your last line is `url=tcp://6.tcp.ngrok.io:18096` then you should set `Client('grpc://6.tcp.ngrok.io:18096')`**\n",
        "\n",
        "### Try Embedding Task from Local\n",
        "\n",
        "```python\n",
        "# pip install clip-client\n",
        "from clip_client import Client\n",
        "\n",
        "c = Client('grpc://6.tcp.ngrok.io:18096')\n",
        "\n",
        "r = c.encode(\n",
        "    [\n",
        "        'First do it',\n",
        "        'then do it right',\n",
        "        'then do it better',\n",
        "        'https://picsum.photos/200',\n",
        "    ]\n",
        ")\n",
        "print(r)\n",
        "```\n",
        "\n",
        "And you will get\n",
        "\n",
        "```text\n",
        "[[ 0.03494263 -0.23510742  0.0104599  ... -0.5229492  -0.10021973\n",
        "  -0.08685303]\n",
        " [-0.06793213 -0.0032444   0.01506805 ... -0.50341797 -0.06143188\n",
        "  -0.08520508]\n",
        " [ 0.15063477 -0.07922363 -0.06530762 ... -0.46484375 -0.08526611\n",
        "   0.04324341]\n",
        " [-0.16088867  0.10552979 -0.20581055 ... -0.41381836  0.19543457\n",
        "   0.05718994]]\n",
        "```\n",
        "\n",
        "Showing the connection is success!\n",
        "\n",
        "\n",
        "### Try Ranking Task from Local\n",
        "\n",
        "```python\n",
        "from docarray import Document\n",
        "\n",
        "from clip_client import Client\n",
        "\n",
        "c = Client(server='grpc://6.tcp.ngrok.io:18096/rank')\n",
        "\n",
        "r = c.rank(\n",
        "    [\n",
        "        Document(\n",
        "            uri='https://picsum.photos/id/1/300/300',\n",
        "            matches=[\n",
        "                Document(text=f'a photo of a {p}')\n",
        "                for p in (\n",
        "                    'man',\n",
        "                    'woman',\n",
        "                )\n",
        "            ],\n",
        "        )\n",
        "    ]\n",
        ")\n",
        "\n",
        "print(r['@m', ['text', 'scores']])\n",
        "```\n",
        "\n",
        "```\n",
        "[['a photo of a man', 'a photo of a woman'], [defaultdict(<class 'docarray.score.NamedScore'>, {'clip_score': {'value': 0.5806832313537598, 'op_name': 'softmax'}, 'clip_score_cosine': {'value': 0.2178003191947937, 'op_name': 'cosine'}}), defaultdict(<class 'docarray.score.NamedScore'>, {'clip_score': {'value': 0.41931676864624023, 'op_name': 'softmax'}, 'clip_score_cosine': {'value': 0.21454453468322754, 'op_name': 'cosine'}})]]\n",
        "```\n",
        "\n",
        "\n",
        "Now enjoy the free GPU/TPU to build your awesome CAS applications!"
      ]
    },
    {
      "cell_type": "code",
      "execution_count": null,
      "metadata": {
        "id": "wzj0pb7qo56c"
      },
      "outputs": [],
      "source": [
        "f.close()"
      ]
    },
    {
      "cell_type": "markdown",
      "metadata": {
        "id": "c6yNVg69-vaw"
      },
      "source": [
        "# Push to the Limit\n",
        "\n",
        "Now let's use the biggest `ViT-L/14-336px` and fully leverage all VRAM with 4 replicas, lets see if it works."
      ]
    },
    {
      "cell_type": "code",
      "execution_count": null,
      "metadata": {
        "id": "uHHWk3WF_DaO"
      },
      "outputs": [],
      "source": [
        "flow_yaml = f'''\n",
        "jtype: Flow\n",
        "with:\n",
        "  port: 51000\n",
        "executors:\n",
        "  - name: clip_t\n",
        "    uses:\n",
        "      jtype: CLIPEncoder\n",
        "      metas:\n",
        "        py_modules:\n",
        "          - {cas_path}/executors/clip_torch.py\n",
        "    replicas: 4\n",
        "'''"
      ]
    },
    {
      "cell_type": "code",
      "execution_count": null,
      "metadata": {
        "id": "Yhz6LoRwZhBE"
      },
      "outputs": [],
      "source": []
    },
    {
      "cell_type": "code",
      "execution_count": null,
      "metadata": {
        "colab": {
          "base_uri": "https://localhost:8080/",
          "height": 507,
          "referenced_widgets": [
            "859ce91ce6b84c0f835d59953305c8ba",
            "ef225c699e1d403ba8fabd2ba316a51c"
          ]
        },
        "id": "0AGcGasu_JIv",
        "outputId": "b800f441-d856-4e9d-ed15-1490c8f1016e"
      },
      "outputs": [
        {
          "data": {
            "text/html": [
              "<pre style=\"white-space:pre;overflow-x:auto;line-height:normal;font-family:Menlo,'DejaVu Sans Mono',consolas,'Courier New',monospace\"><span style=\"color: #808000; text-decoration-color: #808000; font-weight: bold\">RuntimeWarning: coroutine 'Flow._wait_until_all_ready.&lt;locals&gt;._f' was never awaited</span> <span style=\"color: #000000; text-decoration-color: #000000; font-weight: bold\">(raised from </span>\n",
              "<span style=\"color: #000000; text-decoration-color: #000000; font-weight: bold\">/usr/local/lib/python3.11/dist-packages/jina/orchestrate/flow/base.py:1999)</span>\n",
              "</pre>\n"
            ],
            "text/plain": [
              "\u001b[1;33mRuntimeWarning: coroutine 'Flow._wait_until_all_ready.<locals>._f' was never awaited\u001b[0m \u001b[1;30m(raised from \u001b[0m\n",
              "\u001b[1;30m/usr/local/lib/python3.11/dist-packages/jina/orchestrate/flow/base.py:1999)\u001b[0m\n"
            ]
          },
          "metadata": {},
          "output_type": "display_data"
        },
        {
          "data": {
            "application/vnd.jupyter.widget-view+json": {
              "model_id": "859ce91ce6b84c0f835d59953305c8ba",
              "version_major": 2,
              "version_minor": 0
            },
            "text/plain": [
              "Output()"
            ]
          },
          "metadata": {},
          "output_type": "display_data"
        },
        {
          "name": "stderr",
          "output_type": "stream",
          "text": [
            "\u001b[1;33mUserWarning: `docs` annotation must be a type hint, got DocumentArray instead, you should maybe remove the string annotation. Default valueDocumentArray will be used instead.\u001b[0m \u001b[1;30m(raised from /usr/local/lib/python3.11/dist-packages/jina/serve/executors/__init__.py:270)\u001b[0m\n",
            "\u001b[1;33mUserWarning: `docs` annotation must be a type hint, got DocumentArray instead, you should maybe remove the string annotation. Default valueDocumentArray will be used instead.\u001b[0m \u001b[1;30m(raised from /usr/local/lib/python3.11/dist-packages/jina/serve/executors/__init__.py:270)\u001b[0m\n",
            "\u001b[1;33mUserWarning: `docs` annotation must be a type hint, got DocumentArray instead, you should maybe remove the string annotation. Default valueDocumentArray will be used instead.\u001b[0m \u001b[1;30m(raised from /usr/local/lib/python3.11/dist-packages/jina/serve/executors/__init__.py:270)\u001b[0m\n",
            "\u001b[1;33mUserWarning: `docs` annotation must be a type hint, got DocumentArray instead, you should maybe remove the string annotation. Default valueDocumentArray will be used instead.\u001b[0m \u001b[1;30m(raised from /usr/local/lib/python3.11/dist-packages/jina/serve/executors/__init__.py:270)\u001b[0m\n",
            "\u001b[1;33mFutureWarning: Importing from timm.models.layers is deprecated, please import via timm.layers\u001b[0m \u001b[1;30m(raised from /usr/local/lib/python3.11/dist-packages/timm/models/layers/__init__.py:48)\u001b[0m\n"
          ]
        },
        {
          "data": {
            "text/html": [
              "<pre style=\"white-space:pre;overflow-x:auto;line-height:normal;font-family:Menlo,'DejaVu Sans Mono',consolas,'Courier New',monospace\"><span style=\"color: #000080; text-decoration-color: #000080\">INFO  </span> clip_t/rep-<span style=\"color: #008080; text-decoration-color: #008080; font-weight: bold\">3</span>@<span style=\"color: #008080; text-decoration-color: #008080; font-weight: bold\">11438</span> start server bound to <span style=\"color: #00ff00; text-decoration-color: #00ff00; font-weight: bold\">0.0.0.0</span>:<span style=\"color: #008080; text-decoration-color: #008080; font-weight: bold\">64893</span>                                   <span style=\"color: #7f7f7f; text-decoration-color: #7f7f7f\">[04/26/25 23:20:14]</span>\n",
              "</pre>\n"
            ],
            "text/plain": [
              "\u001b[34mINFO  \u001b[0m clip_t/rep-\u001b[1;36m3\u001b[0m@\u001b[1;36m11438\u001b[0m start server bound to \u001b[1;92m0.0.0.0\u001b[0m:\u001b[1;36m64893\u001b[0m                                   \u001b[2m[04/26/25 23:20:14]\u001b[0m\n"
            ]
          },
          "metadata": {},
          "output_type": "display_data"
        },
        {
          "name": "stderr",
          "output_type": "stream",
          "text": [
            "\u001b[1;33mFutureWarning: Importing from timm.models.layers is deprecated, please import via timm.layers\u001b[0m \u001b[1;30m(raised from /usr/local/lib/python3.11/dist-packages/timm/models/layers/__init__.py:48)\u001b[0m\n"
          ]
        },
        {
          "data": {
            "text/html": [
              "<pre style=\"white-space:pre;overflow-x:auto;line-height:normal;font-family:Menlo,'DejaVu Sans Mono',consolas,'Courier New',monospace\"><span style=\"color: #000080; text-decoration-color: #000080\">INFO  </span> clip_t/rep-<span style=\"color: #008080; text-decoration-color: #008080; font-weight: bold\">1</span>@<span style=\"color: #008080; text-decoration-color: #008080; font-weight: bold\">11436</span> start server bound to <span style=\"color: #00ff00; text-decoration-color: #00ff00; font-weight: bold\">0.0.0.0</span>:<span style=\"color: #008080; text-decoration-color: #008080; font-weight: bold\">53656</span>                                   <span style=\"color: #7f7f7f; text-decoration-color: #7f7f7f\">[04/26/25 23:20:24]</span>\n",
              "</pre>\n"
            ],
            "text/plain": [
              "\u001b[34mINFO  \u001b[0m clip_t/rep-\u001b[1;36m1\u001b[0m@\u001b[1;36m11436\u001b[0m start server bound to \u001b[1;92m0.0.0.0\u001b[0m:\u001b[1;36m53656\u001b[0m                                   \u001b[2m[04/26/25 23:20:24]\u001b[0m\n"
            ]
          },
          "metadata": {},
          "output_type": "display_data"
        },
        {
          "name": "stderr",
          "output_type": "stream",
          "text": [
            "\u001b[1;33mFutureWarning: Importing from timm.models.layers is deprecated, please import via timm.layers\u001b[0m \u001b[1;30m(raised from /usr/local/lib/python3.11/dist-packages/timm/models/layers/__init__.py:48)\u001b[0m\n"
          ]
        },
        {
          "data": {
            "text/html": [
              "<pre style=\"white-space:pre;overflow-x:auto;line-height:normal;font-family:Menlo,'DejaVu Sans Mono',consolas,'Courier New',monospace\"><span style=\"color: #000080; text-decoration-color: #000080\">INFO  </span> clip_t/rep-<span style=\"color: #008080; text-decoration-color: #008080; font-weight: bold\">0</span>@<span style=\"color: #008080; text-decoration-color: #008080; font-weight: bold\">11435</span> start server bound to <span style=\"color: #00ff00; text-decoration-color: #00ff00; font-weight: bold\">0.0.0.0</span>:<span style=\"color: #008080; text-decoration-color: #008080; font-weight: bold\">60987</span>                                   <span style=\"color: #7f7f7f; text-decoration-color: #7f7f7f\">[04/26/25 23:20:34]</span>\n",
              "</pre>\n"
            ],
            "text/plain": [
              "\u001b[34mINFO  \u001b[0m clip_t/rep-\u001b[1;36m0\u001b[0m@\u001b[1;36m11435\u001b[0m start server bound to \u001b[1;92m0.0.0.0\u001b[0m:\u001b[1;36m60987\u001b[0m                                   \u001b[2m[04/26/25 23:20:34]\u001b[0m\n"
            ]
          },
          "metadata": {},
          "output_type": "display_data"
        },
        {
          "name": "stderr",
          "output_type": "stream",
          "text": [
            "\u001b[1;33mFutureWarning: Importing from timm.models.layers is deprecated, please import via timm.layers\u001b[0m \u001b[1;30m(raised from /usr/local/lib/python3.11/dist-packages/timm/models/layers/__init__.py:48)\u001b[0m\n"
          ]
        },
        {
          "data": {
            "text/html": [
              "<pre style=\"white-space:pre;overflow-x:auto;line-height:normal;font-family:Menlo,'DejaVu Sans Mono',consolas,'Courier New',monospace\"><span style=\"color: #000080; text-decoration-color: #000080\">INFO  </span> clip_t/rep-<span style=\"color: #008080; text-decoration-color: #008080; font-weight: bold\">2</span>@<span style=\"color: #008080; text-decoration-color: #008080; font-weight: bold\">11437</span> start server bound to <span style=\"color: #00ff00; text-decoration-color: #00ff00; font-weight: bold\">0.0.0.0</span>:<span style=\"color: #008080; text-decoration-color: #008080; font-weight: bold\">52565</span>                                   <span style=\"color: #7f7f7f; text-decoration-color: #7f7f7f\">[04/26/25 23:20:43]</span>\n",
              "</pre>\n"
            ],
            "text/plain": [
              "\u001b[34mINFO  \u001b[0m clip_t/rep-\u001b[1;36m2\u001b[0m@\u001b[1;36m11437\u001b[0m start server bound to \u001b[1;92m0.0.0.0\u001b[0m:\u001b[1;36m52565\u001b[0m                                   \u001b[2m[04/26/25 23:20:43]\u001b[0m\n"
            ]
          },
          "metadata": {},
          "output_type": "display_data"
        },
        {
          "data": {
            "text/html": [
              "<pre style=\"white-space:pre;overflow-x:auto;line-height:normal;font-family:Menlo,'DejaVu Sans Mono',consolas,'Courier New',monospace\"></pre>\n"
            ],
            "text/plain": []
          },
          "metadata": {},
          "output_type": "display_data"
        },
        {
          "data": {
            "text/html": [
              "<pre style=\"white-space:pre;overflow-x:auto;line-height:normal;font-family:Menlo,'DejaVu Sans Mono',consolas,'Courier New',monospace\"><span style=\"color: #00ff00; text-decoration-color: #00ff00\">─────────────────────────────────────────── </span>🎉 Flow is ready to serve!<span style=\"color: #00ff00; text-decoration-color: #00ff00\"> ────────────────────────────────────────────</span>\n",
              "╭────────────── 🔗 <span style=\"font-weight: bold\">Endpoint</span> ───────────────╮\n",
              "│  ⛓      Protocol                   GRPC  │\n",
              "│  🏠        Local          <a href=\"grpc://0.0.0.0:51000\" target=\"_blank\"><span style=\"color: #00ff00; text-decoration-color: #00ff00; font-weight: bold\">0.0.0.0</span></a><a href=\"grpc://0.0.0.0:51000\" target=\"_blank\">:</a><a href=\"grpc://0.0.0.0:51000\" target=\"_blank\"><span style=\"color: #008080; text-decoration-color: #008080; font-weight: bold\">51000</span></a>  │\n",
              "│  🔒      Private      <a href=\"grpc://172.28.0.12:51000\" target=\"_blank\"><span style=\"color: #00ff00; text-decoration-color: #00ff00; font-weight: bold\">172.28.0.12</span></a><a href=\"grpc://172.28.0.12:51000\" target=\"_blank\">:</a><a href=\"grpc://172.28.0.12:51000\" target=\"_blank\"><span style=\"color: #008080; text-decoration-color: #008080; font-weight: bold\">51000</span></a>  │\n",
              "│  🌍       Public    <a href=\"grpc://34.16.219.143:51000\" target=\"_blank\"><span style=\"color: #00ff00; text-decoration-color: #00ff00; font-weight: bold\">34.16.219.143</span></a><a href=\"grpc://34.16.219.143:51000\" target=\"_blank\">:</a><a href=\"grpc://34.16.219.143:51000\" target=\"_blank\"><span style=\"color: #008080; text-decoration-color: #008080; font-weight: bold\">51000</span></a>  │\n",
              "╰──────────────────────────────────────────╯\n",
              "</pre>\n"
            ],
            "text/plain": [
              "\u001b[92m─────────────────────────────────────────── \u001b[0m🎉 Flow is ready to serve!\u001b[92m ────────────────────────────────────────────\u001b[0m\n",
              "╭────────────── 🔗 \u001b[1mEndpoint\u001b[0m ───────────────╮\n",
              "│  ⛓      Protocol                   GRPC  │\n",
              "│  🏠        Local          \u001b]8;id=899663;grpc://0.0.0.0:51000\u001b\\\u001b[1;92m0.0.0.0\u001b[0m\u001b]8;;\u001b\\\u001b]8;id=465065;grpc://0.0.0.0:51000\u001b\\:\u001b]8;;\u001b\\\u001b]8;id=748585;grpc://0.0.0.0:51000\u001b\\\u001b[1;36m51000\u001b[0m\u001b]8;;\u001b\\  │\n",
              "│  🔒      Private      \u001b]8;id=736423;grpc://172.28.0.12:51000\u001b\\\u001b[1;92m172.28.0.12\u001b[0m\u001b]8;;\u001b\\\u001b]8;id=328223;grpc://172.28.0.12:51000\u001b\\:\u001b]8;;\u001b\\\u001b]8;id=355198;grpc://172.28.0.12:51000\u001b\\\u001b[1;36m51000\u001b[0m\u001b]8;;\u001b\\  │\n",
              "│  🌍       Public    \u001b]8;id=898249;grpc://34.16.219.143:51000\u001b\\\u001b[1;92m34.16.219.143\u001b[0m\u001b]8;;\u001b\\\u001b]8;id=279405;grpc://34.16.219.143:51000\u001b\\:\u001b]8;;\u001b\\\u001b]8;id=132521;grpc://34.16.219.143:51000\u001b\\\u001b[1;36m51000\u001b[0m\u001b]8;;\u001b\\  │\n",
              "╰──────────────────────────────────────────╯\n"
            ]
          },
          "metadata": {},
          "output_type": "display_data"
        },
        {
          "data": {
            "text/html": [
              "<pre style=\"white-space:pre;overflow-x:auto;line-height:normal;font-family:Menlo,'DejaVu Sans Mono',consolas,'Courier New',monospace\">Do you love open source? Help us improve <a href=\"https://github.com/jina-ai/jina\" target=\"_blank\">Jina</a> in just <span style=\"color: #008080; text-decoration-color: #008080; font-weight: bold\">1</span> minute and <span style=\"color: #008080; text-decoration-color: #008080; font-weight: bold\">30</span> seconds by taking our survey: \n",
              "<span style=\"color: #0000ff; text-decoration-color: #0000ff; text-decoration: underline\">https://10sw1tcpld4.typeform.com/jinasurveyfeb23?utm_source=jina</span> <span style=\"font-weight: bold\">(</span>Set environment variable <span style=\"color: #808000; text-decoration-color: #808000\">JINA_HIDE_SURVEY</span>=<span style=\"color: #008080; text-decoration-color: #008080; font-weight: bold\">1</span> to \n",
              "hide this message.<span style=\"font-weight: bold\">)</span>\n",
              "</pre>\n"
            ],
            "text/plain": [
              "Do you love open source? Help us improve \u001b]8;id=880873;https://github.com/jina-ai/jina\u001b\\Jina\u001b]8;;\u001b\\ in just \u001b[1;36m1\u001b[0m minute and \u001b[1;36m30\u001b[0m seconds by taking our survey: \n",
              "\u001b[4;94mhttps://10sw1tcpld4.typeform.com/jinasurveyfeb23?\u001b[0m\u001b[4;94mutm_source\u001b[0m\u001b[4;94m=\u001b[0m\u001b[4;94mjina\u001b[0m \u001b[1m(\u001b[0mSet environment variable \u001b[33mJINA_HIDE_SURVEY\u001b[0m=\u001b[1;36m1\u001b[0m to \n",
              "hide this message.\u001b[1m)\u001b[0m\n"
            ]
          },
          "metadata": {},
          "output_type": "display_data"
        },
        {
          "name": "stderr",
          "output_type": "stream",
          "text": [
            "\u001b[1;33mRuntimeWarning: coroutine 'Flow._wait_until_all_ready.<locals>._async_wait_ready' was never awaited\u001b[0m \u001b[1;30m(raised from /usr/local/lib/python3.11/dist-packages/jina/orchestrate/flow/base.py:1857)\u001b[0m\n"
          ]
        },
        {
          "data": {
            "text/html": [
              "<img src=\"https://mermaid.ink/svg/ICAgICAgICAgICAgJSV7aW5pdDp7ICAidGhlbWUiOiAiYmFzZSIsICAidGhlbWVWYXJpYWJsZXMiOiB7ICAgICAgInByaW1hcnlDb2xvciI6ICIjZmZmIiwgICAgICAicHJpbWFyeUJvcmRlckNvbG9yIjogIiNmZmYiLCAgICAgICJtYWluQmtnIjogIiMzMkM4Q0QiLCAgICAgICJjbHVzdGVyQmtnIjogIiNFRUVERTc4QyIsICAgICAgInNlY29uZGFyeUJvcmRlckNvbG9yIjogIm5vbmUiLCAgICAgICJ0ZXJ0aWFyeUJvcmRlckNvbG9yIjogIm5vbmUiLCAgICAgICJsaW5lQ29sb3IiOiAiI2E2ZDhkYSIgICAgICB9fX0lJQpmbG93Y2hhcnQgTFI7CnN1YmdyYXBoIGNsaXBfdDsKCmRpcmVjdGlvbiBMUjsKCmNsaXBfdC9yZXAtMC9yZXAtMFsiInsianR5cGUiOiAiQ0xJUEVuY29kZXIiLCAibWV0YXMiOiB7InB5X21vZHVsZXMiOiBbIi91c3IvbG9jYWwvbGliL3B5dGhvbjMuMTEvZGlzdC1wYWNrYWdlcy9jbGlwX3NlcnZlci9leGVjdXRvcnMvY2xpcF90b3JjaC5weSJdfX0iIl06Ojpwb2Q7CmNsaXBfdC9yZXAtMC9yZXAtMVsiInsianR5cGUiOiAiQ0xJUEVuY29kZXIiLCAibWV0YXMiOiB7InB5X21vZHVsZXMiOiBbIi91c3IvbG9jYWwvbGliL3B5dGhvbjMuMTEvZGlzdC1wYWNrYWdlcy9jbGlwX3NlcnZlci9leGVjdXRvcnMvY2xpcF90b3JjaC5weSJdfX0iIl06Ojpwb2Q7CmNsaXBfdC9yZXAtMC9yZXAtMlsiInsianR5cGUiOiAiQ0xJUEVuY29kZXIiLCAibWV0YXMiOiB7InB5X21vZHVsZXMiOiBbIi91c3IvbG9jYWwvbGliL3B5dGhvbjMuMTEvZGlzdC1wYWNrYWdlcy9jbGlwX3NlcnZlci9leGVjdXRvcnMvY2xpcF90b3JjaC5weSJdfX0iIl06Ojpwb2Q7CmNsaXBfdC9yZXAtMC9yZXAtM1siInsianR5cGUiOiAiQ0xJUEVuY29kZXIiLCAibWV0YXMiOiB7InB5X21vZHVsZXMiOiBbIi91c3IvbG9jYWwvbGliL3B5dGhvbjMuMTEvZGlzdC1wYWNrYWdlcy9jbGlwX3NlcnZlci9leGVjdXRvcnMvY2xpcF90b3JjaC5weSJdfX0iIl06Ojpwb2Q7CmVuZDsKZ2F0ZXdheXN0YXJ0W2dhdGV3YXldOjo6R0FURVdBWSAtLT4gY2xpcF90Ojo6REVQTE9ZTUVOVDsKY2xpcF90Ojo6REVQTE9ZTUVOVCAtLT4gZ2F0ZXdheWVuZFtnYXRld2F5XTo6OkdBVEVXQVk7CmNsYXNzRGVmIElOU1BFQ1Qgc3Ryb2tlOiNGMjlDOUYKY2xhc3NEZWYgSk9JTl9JTlNQRUNUIHN0cm9rZTojRjI5QzlGCmNsYXNzRGVmIEdBVEVXQVkgZmlsbDpub25lLGNvbG9yOiMwMDAsc3Ryb2tlOm5vbmUKY2xhc3NEZWYgSU5TUEVDVF9BVVhfUEFTUyBzdHJva2UtZGFzaGFycmF5OiAyIDIKY2xhc3NEZWYgSEVBRFRBSUwgZmlsbDojMzJDOENEMUQKCmNsYXNzRGVmIEVYVEVSTkFMIGZpbGw6I2ZmZixzdHJva2U6IzMyQzhDRA==\"/>"
            ],
            "text/plain": [
              "<IPython.core.display.Image object>"
            ]
          },
          "metadata": {},
          "output_type": "display_data"
        }
      ],
      "source": [
        "from jina import Flow\n",
        "\n",
        "f = Flow.load_config(flow_yaml)\n",
        "f.start()"
      ]
    },
    {
      "cell_type": "code",
      "execution_count": null,
      "metadata": {
        "colab": {
          "base_uri": "https://localhost:8080/"
        },
        "id": "DQzvwOF3_K6U",
        "outputId": "4b0cc89c-9b82-44a9-9e10-9289e6f000d6"
      },
      "outputs": [
        {
          "name": "stdout",
          "output_type": "stream",
          "text": [
            "Authtoken saved to configuration file: /root/.config/ngrok/ngrok.yml\n",
            "\u001b[32mINFO\u001b[0m[04-26|23:20:43] no configuration paths supplied \n",
            "\u001b[32mINFO\u001b[0m[04-26|23:20:43] using configuration at default config path \u001b[32mpath\u001b[0m=/root/.config/ngrok/ngrok.yml\n",
            "\u001b[32mINFO\u001b[0m[04-26|23:20:43] open config file                         \u001b[32mpath\u001b[0m=/root/.config/ngrok/ngrok.yml \u001b[32merr\u001b[0m=nil\n",
            "t=2025-04-26T23:20:43+0000 lvl=info msg=\"starting web service\" obj=web addr=127.0.0.1:4040 allow_hosts=[]\n",
            "t=2025-04-26T23:20:44+0000 lvl=info msg=\"client session established\" obj=tunnels.session\n",
            "t=2025-04-26T23:20:44+0000 lvl=info msg=\"tunnel session started\" obj=tunnels.session\n",
            "t=2025-04-26T23:20:44+0000 lvl=info msg=\"started tunnel\" obj=tunnels name=command_line addr=//localhost:51000 url=tcp://2.tcp.ngrok.io:11580\n",
            "t=2025-04-26T23:21:32+0000 lvl=info msg=\"join connections\" obj=join id=cff0511e3cab l=127.0.0.1:51000 r=68.199.56.76:63848\n",
            "t=2025-04-26T23:23:48+0000 lvl=info msg=\"join connections\" obj=join id=89d8d067cc6d l=127.0.0.1:51000 r=68.199.56.76:63900\n",
            "t=2025-04-26T23:25:48+0000 lvl=info msg=\"join connections\" obj=join id=71af9135b099 l=127.0.0.1:51000 r=68.199.56.76:63950\n",
            "Traceback (most recent call last):\n",
            "  File \"/usr/lib/python3.11/subprocess.py\", line 1264, in wait\n",
            "    return self._wait(timeout=timeout)\n",
            "           ^^^^^^^^^^^^^^^^^^^^^^^^^^^\n",
            "  File \"/usr/lib/python3.11/subprocess.py\", line 2053, in _wait\n",
            "    (pid, sts) = self._try_wait(0)\n",
            "                 ^^^^^^^^^^^^^^^^^\n",
            "  File \"/usr/lib/python3.11/subprocess.py\", line 2011, in _try_wait\n",
            "    (pid, sts) = os.waitpid(self.pid, wait_flags)\n",
            "                 ^^^^^^^^^^^^^^^^^^^^^^^^^^^^^^^^\n",
            "KeyboardInterrupt\n",
            "\n",
            "During handling of the above exception, another exception occurred:\n",
            "\n",
            "Traceback (most recent call last):\n",
            "  File \"/usr/local/bin/ngrok\", line 8, in <module>\n",
            "    sys.exit(main())\n",
            "             ^^^^^^\n",
            "  File \"/usr/local/lib/python3.11/dist-packages/pyngrok/ngrok.py\", line 616, in main\n",
            "    run(sys.argv[1:])\n",
            "  File \"/usr/local/lib/python3.11/dist-packages/pyngrok/ngrok.py\", line 604, in run\n",
            "    process.run_process(pyngrok_config.ngrok_path, args)\n",
            "  File \"/usr/local/lib/python3.11/dist-packages/pyngrok/process.py\", line 306, in run_process\n",
            "    subprocess.call(start)\n",
            "  File \"/usr/lib/python3.11/subprocess.py\", line 391, in call\n",
            "    return p.wait(timeout=timeout)\n",
            "           ^^^^^^^^^^^^^^^^^^^^^^^\n",
            "  File \"/usr/lib/python3.11/subprocess.py\", line 1277, in wait\n",
            "    self._wait(timeout=sigint_timeout)\n",
            "  File \"/usr/lib/python3.11/subprocess.py\", line 2047, in _wait\n",
            "    time.sleep(delay)\n",
            "KeyboardInterrupt\n",
            "^C\n"
          ]
        }
      ],
      "source": [
        "!ngrok authtoken 2nXxQZ267m5WH8nk7iVMZJcbo6I_6MmNpiUT6ZRFSZ2ZoTDhn\n",
        "!ngrok tcp 51000 --log \"stdout\""
      ]
    },
    {
      "cell_type": "markdown",
      "metadata": {
        "id": "8T2z6HXd_hKB"
      },
      "source": [
        "Yay it works!"
      ]
    },
    {
      "cell_type": "code",
      "execution_count": null,
      "metadata": {
        "id": "4-y_vbHW_acV"
      },
      "outputs": [],
      "source": []
    }
  ],
  "metadata": {
    "accelerator": "GPU",
    "colab": {
      "provenance": []
    },
    "kernelspec": {
      "display_name": "Python 3",
      "name": "python3"
    },
    "language_info": {
      "name": "python"
    },
    "widgets": {
      "application/vnd.jupyter.widget-state+json": {
        "859ce91ce6b84c0f835d59953305c8ba": {
          "model_module": "@jupyter-widgets/output",
          "model_module_version": "1.0.0",
          "model_name": "OutputModel",
          "state": {
            "_dom_classes": [],
            "_model_module": "@jupyter-widgets/output",
            "_model_module_version": "1.0.0",
            "_model_name": "OutputModel",
            "_view_count": null,
            "_view_module": "@jupyter-widgets/output",
            "_view_module_version": "1.0.0",
            "_view_name": "OutputView",
            "layout": "IPY_MODEL_ef225c699e1d403ba8fabd2ba316a51c",
            "msg_id": "",
            "outputs": [
              {
                "data": {
                  "text/html": "<pre style=\"white-space:pre;overflow-x:auto;line-height:normal;font-family:Menlo,'DejaVu Sans Mono',consolas,'Courier New',monospace\"><span style=\"color: #008000; text-decoration-color: #008000\">⠦</span> Waiting <span style=\"font-weight: bold\">clip_t</span>... <span style=\"color: #f92672; text-decoration-color: #f92672\">━━━━━━━━━━━━━━━━━━━━</span><span style=\"color: #3a3a3a; text-decoration-color: #3a3a3a\">╺━━━━━━━━━━━━━━━━━━━</span> <span style=\"color: #008000; text-decoration-color: #008000\">1/2</span> <span style=\"color: #808000; text-decoration-color: #808000\">0:00:50</span>\n</pre>\n",
                  "text/plain": "\u001b[32m⠦\u001b[0m Waiting \u001b[1mclip_t\u001b[0m... \u001b[38;2;249;38;114m━━━━━━━━━━━━━━━━━━━━\u001b[0m\u001b[38;5;237m╺\u001b[0m\u001b[38;5;237m━━━━━━━━━━━━━━━━━━━\u001b[0m \u001b[32m1/2\u001b[0m \u001b[33m0:00:50\u001b[0m\n"
                },
                "metadata": {},
                "output_type": "display_data"
              }
            ]
          }
        },
        "ef225c699e1d403ba8fabd2ba316a51c": {
          "model_module": "@jupyter-widgets/base",
          "model_module_version": "1.2.0",
          "model_name": "LayoutModel",
          "state": {
            "_model_module": "@jupyter-widgets/base",
            "_model_module_version": "1.2.0",
            "_model_name": "LayoutModel",
            "_view_count": null,
            "_view_module": "@jupyter-widgets/base",
            "_view_module_version": "1.2.0",
            "_view_name": "LayoutView",
            "align_content": null,
            "align_items": null,
            "align_self": null,
            "border": null,
            "bottom": null,
            "display": null,
            "flex": null,
            "flex_flow": null,
            "grid_area": null,
            "grid_auto_columns": null,
            "grid_auto_flow": null,
            "grid_auto_rows": null,
            "grid_column": null,
            "grid_gap": null,
            "grid_row": null,
            "grid_template_areas": null,
            "grid_template_columns": null,
            "grid_template_rows": null,
            "height": null,
            "justify_content": null,
            "justify_items": null,
            "left": null,
            "margin": null,
            "max_height": null,
            "max_width": null,
            "min_height": null,
            "min_width": null,
            "object_fit": null,
            "object_position": null,
            "order": null,
            "overflow": null,
            "overflow_x": null,
            "overflow_y": null,
            "padding": null,
            "right": null,
            "top": null,
            "visibility": null,
            "width": null
          }
        },
        "b6a41c2cd171426c9a6149790e86ef6c": {
          "model_module": "@jupyter-widgets/output",
          "model_name": "OutputModel",
          "model_module_version": "1.0.0",
          "state": {
            "_dom_classes": [],
            "_model_module": "@jupyter-widgets/output",
            "_model_module_version": "1.0.0",
            "_model_name": "OutputModel",
            "_view_count": null,
            "_view_module": "@jupyter-widgets/output",
            "_view_module_version": "1.0.0",
            "_view_name": "OutputView",
            "layout": "IPY_MODEL_2b16115ff64a47bf9b60e27d3111fb03",
            "msg_id": "",
            "outputs": [
              {
                "output_type": "display_data",
                "data": {
                  "text/plain": "\u001b[32m⠙\u001b[0m Waiting \u001b[1mclip_t\u001b[0m... \u001b[38;2;249;38;114m━━━━━━━━━━━━━━━━━━━━\u001b[0m\u001b[38;5;237m╺\u001b[0m\u001b[38;5;237m━━━━━━━━━━━━━━━━━━━\u001b[0m \u001b[32m1/2\u001b[0m \u001b[33m0:01:53\u001b[0m\n",
                  "text/html": "<pre style=\"white-space:pre;overflow-x:auto;line-height:normal;font-family:Menlo,'DejaVu Sans Mono',consolas,'Courier New',monospace\"><span style=\"color: #008000; text-decoration-color: #008000\">⠙</span> Waiting <span style=\"font-weight: bold\">clip_t</span>... <span style=\"color: #f92672; text-decoration-color: #f92672\">━━━━━━━━━━━━━━━━━━━━</span><span style=\"color: #3a3a3a; text-decoration-color: #3a3a3a\">╺━━━━━━━━━━━━━━━━━━━</span> <span style=\"color: #008000; text-decoration-color: #008000\">1/2</span> <span style=\"color: #808000; text-decoration-color: #808000\">0:01:53</span>\n</pre>\n"
                },
                "metadata": {}
              }
            ]
          }
        },
        "2b16115ff64a47bf9b60e27d3111fb03": {
          "model_module": "@jupyter-widgets/base",
          "model_name": "LayoutModel",
          "model_module_version": "1.2.0",
          "state": {
            "_model_module": "@jupyter-widgets/base",
            "_model_module_version": "1.2.0",
            "_model_name": "LayoutModel",
            "_view_count": null,
            "_view_module": "@jupyter-widgets/base",
            "_view_module_version": "1.2.0",
            "_view_name": "LayoutView",
            "align_content": null,
            "align_items": null,
            "align_self": null,
            "border": null,
            "bottom": null,
            "display": null,
            "flex": null,
            "flex_flow": null,
            "grid_area": null,
            "grid_auto_columns": null,
            "grid_auto_flow": null,
            "grid_auto_rows": null,
            "grid_column": null,
            "grid_gap": null,
            "grid_row": null,
            "grid_template_areas": null,
            "grid_template_columns": null,
            "grid_template_rows": null,
            "height": null,
            "justify_content": null,
            "justify_items": null,
            "left": null,
            "margin": null,
            "max_height": null,
            "max_width": null,
            "min_height": null,
            "min_width": null,
            "object_fit": null,
            "object_position": null,
            "order": null,
            "overflow": null,
            "overflow_x": null,
            "overflow_y": null,
            "padding": null,
            "right": null,
            "top": null,
            "visibility": null,
            "width": null
          }
        },
        "b8f358bf4e784277a2bd1a5d1e60e591": {
          "model_module": "@jupyter-widgets/output",
          "model_name": "OutputModel",
          "model_module_version": "1.0.0",
          "state": {
            "_dom_classes": [],
            "_model_module": "@jupyter-widgets/output",
            "_model_module_version": "1.0.0",
            "_model_name": "OutputModel",
            "_view_count": null,
            "_view_module": "@jupyter-widgets/output",
            "_view_module_version": "1.0.0",
            "_view_name": "OutputView",
            "layout": "IPY_MODEL_0ba92b9a765d4537945d310f99e2346b",
            "msg_id": "",
            "outputs": [
              {
                "output_type": "display_data",
                "data": {
                  "text/plain": "  \u001b[1;34mViT-B-32.pt\u001b[0m \u001b[35m100.0%\u001b[0m • \u001b[32m354.0/354.0 MB\u001b[0m • \u001b[31m6.2 MB/s\u001b[0m • \u001b[36m0:00:00\u001b[0m\n                                                          \n",
                  "text/html": "<pre style=\"white-space:pre;overflow-x:auto;line-height:normal;font-family:Menlo,'DejaVu Sans Mono',consolas,'Courier New',monospace\">  <span style=\"color: #000080; text-decoration-color: #000080; font-weight: bold\">ViT-B-32.pt</span> <span style=\"color: #800080; text-decoration-color: #800080\">100.0%</span> • <span style=\"color: #008000; text-decoration-color: #008000\">354.0/354.0 MB</span> • <span style=\"color: #800000; text-decoration-color: #800000\">6.2 MB/s</span> • <span style=\"color: #008080; text-decoration-color: #008080\">0:00:00</span>\n                                                          \n</pre>\n"
                },
                "metadata": {}
              }
            ]
          }
        },
        "0ba92b9a765d4537945d310f99e2346b": {
          "model_module": "@jupyter-widgets/base",
          "model_name": "LayoutModel",
          "model_module_version": "1.2.0",
          "state": {
            "_model_module": "@jupyter-widgets/base",
            "_model_module_version": "1.2.0",
            "_model_name": "LayoutModel",
            "_view_count": null,
            "_view_module": "@jupyter-widgets/base",
            "_view_module_version": "1.2.0",
            "_view_name": "LayoutView",
            "align_content": null,
            "align_items": null,
            "align_self": null,
            "border": null,
            "bottom": null,
            "display": null,
            "flex": null,
            "flex_flow": null,
            "grid_area": null,
            "grid_auto_columns": null,
            "grid_auto_flow": null,
            "grid_auto_rows": null,
            "grid_column": null,
            "grid_gap": null,
            "grid_row": null,
            "grid_template_areas": null,
            "grid_template_columns": null,
            "grid_template_rows": null,
            "height": null,
            "justify_content": null,
            "justify_items": null,
            "left": null,
            "margin": null,
            "max_height": null,
            "max_width": null,
            "min_height": null,
            "min_width": null,
            "object_fit": null,
            "object_position": null,
            "order": null,
            "overflow": null,
            "overflow_x": null,
            "overflow_y": null,
            "padding": null,
            "right": null,
            "top": null,
            "visibility": null,
            "width": null
          }
        }
      }
    }
  },
  "nbformat": 4,
  "nbformat_minor": 0
}